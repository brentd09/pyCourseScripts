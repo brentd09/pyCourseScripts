{
 "cells": [
  {
   "cell_type": "markdown",
   "metadata": {},
   "source": [
    "## Different ways to create strings"
   ]
  },
  {
   "cell_type": "code",
   "execution_count": null,
   "metadata": {},
   "outputs": [],
   "source": [
    "a = 'This is a string'\n",
    "print(a)"
   ]
  },
  {
   "cell_type": "code",
   "execution_count": null,
   "metadata": {},
   "outputs": [],
   "source": [
    "b = \"This is a string\"\n",
    "print(b)"
   ]
  },
  {
   "cell_type": "markdown",
   "metadata": {},
   "source": [
    "### Here we see a problem\n",
    "- the single quote is terminated part way through the string in the word *don't*\n",
    "- there are several ways to solve this\n",
    "  - make the ' a literal character with the \\ character before it\n",
    "    - \\\\' changes the ' char to literal\n",
    "  - use double quotes around the entire string\n",
    "  - use triple quotes"
   ]
  },
  {
   "cell_type": "code",
   "execution_count": null,
   "metadata": {},
   "outputs": [],
   "source": [
    "c = 'I don't think this will work'\n",
    "print(c)"
   ]
  },
  {
   "cell_type": "code",
   "execution_count": null,
   "metadata": {},
   "outputs": [],
   "source": [
    "c = 'I don\\'t think this will be a problem now'\n",
    "print(c)"
   ]
  },
  {
   "cell_type": "code",
   "execution_count": null,
   "metadata": {},
   "outputs": [],
   "source": [
    "c = \"I don't think this will be a problem now\"\n",
    "print(c)"
   ]
  },
  {
   "cell_type": "markdown",
   "metadata": {},
   "source": [
    "## Triple quotes\n",
    "- triple quotes allows us to do the following:\n",
    "  - have different combinations of ' \" in our string \n",
    "  - have multiple lines in the string"
   ]
  },
  {
   "cell_type": "code",
   "execution_count": 3,
   "metadata": {},
   "outputs": [
    {
     "name": "stdout",
     "output_type": "stream",
     "text": [
      "In this text we don't care is we have single quotes \"Or if we have double quoted\" they will all work\n"
     ]
    }
   ],
   "source": [
    "d = '''In this text we don't care is we have single quotes \"Or if we have double quoted\" they will all work'''\n",
    "print(d)"
   ]
  },
  {
   "cell_type": "code",
   "execution_count": 2,
   "metadata": {},
   "outputs": [
    {
     "name": "stdout",
     "output_type": "stream",
     "text": [
      "In this text we don't care is we have single quotes \"Or if we have double quoted\" they will all work\n"
     ]
    }
   ],
   "source": [
    "d = \"\"\"In this text we don't care is we have single quotes \"Or if we have double quoted\" they will all work\"\"\"\n",
    "print(d)"
   ]
  },
  {
   "cell_type": "code",
   "execution_count": 4,
   "metadata": {},
   "outputs": [
    {
     "name": "stdout",
     "output_type": "stream",
     "text": [
      "In this text we don't care is we have single quotes \n",
      "\"Or if we have double quoted\" they will all work.\n",
      "We can even have multiple lines\n"
     ]
    }
   ],
   "source": [
    "d = '''In this text we don't care is we have single quotes \n",
    "\"Or if we have double quoted\" they will all work.\n",
    "We can even have multiple lines'''\n",
    "print(d)"
   ]
  },
  {
   "cell_type": "markdown",
   "metadata": {},
   "source": [
    "## str() is a function that typecasts a value into a string"
   ]
  },
  {
   "cell_type": "code",
   "execution_count": 7,
   "metadata": {},
   "outputs": [
    {
     "name": "stdout",
     "output_type": "stream",
     "text": [
      "variable e is of type: <class 'int'>\n",
      "variable f is of type: <class 'str'>\n"
     ]
    }
   ],
   "source": [
    "e = 123\n",
    "f = str(e)\n",
    "print(\"variable e is of type:\",type(e))\n",
    "print(\"variable f is of type:\",type(f))"
   ]
  }
 ],
 "metadata": {
  "kernelspec": {
   "display_name": "Python 3.10.6 64-bit",
   "language": "python",
   "name": "python3"
  },
  "language_info": {
   "codemirror_mode": {
    "name": "ipython",
    "version": 3
   },
   "file_extension": ".py",
   "mimetype": "text/x-python",
   "name": "python",
   "nbconvert_exporter": "python",
   "pygments_lexer": "ipython3",
   "version": "3.10.6"
  },
  "orig_nbformat": 4,
  "vscode": {
   "interpreter": {
    "hash": "917c2fcfba35f78a8c6240e40e0068b9d5bef1e4004d7bc74bf2323334ee950e"
   }
  }
 },
 "nbformat": 4,
 "nbformat_minor": 2
}
