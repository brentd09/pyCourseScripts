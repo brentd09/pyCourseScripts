{
 "cells": [
  {
   "cell_type": "markdown",
   "metadata": {},
   "source": [
    "## numbers"
   ]
  },
  {
   "cell_type": "code",
   "execution_count": 1,
   "metadata": {},
   "outputs": [
    {
     "name": "stdout",
     "output_type": "stream",
     "text": [
      "<class 'int'> <class 'float'>\n"
     ]
    }
   ],
   "source": [
    "int1 = 123\n",
    "float1  = 123.4\n",
    "print(type(int1), type(float1))"
   ]
  },
  {
   "cell_type": "markdown",
   "metadata": {},
   "source": [
    "## collections"
   ]
  },
  {
   "cell_type": "code",
   "execution_count": 3,
   "metadata": {},
   "outputs": [
    {
     "name": "stdout",
     "output_type": "stream",
     "text": [
      "(1, 2, 3) [1, 2, 3] {1, 2, 3} {'one': 1, 'two': 2}\n"
     ]
    }
   ],
   "source": [
    "tuple1 = (1,2,3) # tuples : less memory, faster, unchangable, used for simple arrays\n",
    "list1 = [1,2,3]  # lists  : dynamic so uses more memory, changable, slower, used when the array needs to be manipulated\n",
    "set1 = {1,2,3}   # sets   : only has unique values, can detect unions, intersections, subsets. Converting a list to a set will eliminate duplicate values\n",
    "dict1 = {'one':1,'two':2} # dict: used to give context to the values, changable. \n",
    "print(tuple1,list1,set1,dict1)"
   ]
  },
  {
   "cell_type": "markdown",
   "metadata": {},
   "source": [
    "## conditionals"
   ]
  },
  {
   "cell_type": "code",
   "execution_count": 6,
   "metadata": {},
   "outputs": [
    {
     "name": "stdout",
     "output_type": "stream",
     "text": [
      "Equals 4\n"
     ]
    }
   ],
   "source": [
    "a = 4\n",
    "if a > 4:\n",
    "  print('Over 4')\n",
    "elif a < 4:            # if elif is needed there can be any number of elif statements in an if\n",
    "  print('Under 4')\n",
    "else:                  # if else is needed there can only be one at the end of the if\n",
    "  print(\"Equals 4\")      "
   ]
  },
  {
   "cell_type": "markdown",
   "metadata": {},
   "source": [
    "##### Ternany statements"
   ]
  },
  {
   "cell_type": "code",
   "execution_count": 8,
   "metadata": {},
   "outputs": [
    {
     "name": "stdout",
     "output_type": "stream",
     "text": [
      "not over 4\n"
     ]
    }
   ],
   "source": [
    "a = 2\n",
    "val = \"over 4\" if a > 4 else \"not over 4\"\n",
    "print(val)"
   ]
  },
  {
   "cell_type": "markdown",
   "metadata": {},
   "source": [
    "##### Match"
   ]
  },
  {
   "cell_type": "code",
   "execution_count": 10,
   "metadata": {},
   "outputs": [
    {
     "name": "stdout",
     "output_type": "stream",
     "text": [
      "not 1,2,3,4 or 5\n"
     ]
    }
   ],
   "source": [
    "a = 6\n",
    "match a:\n",
    "  case 1:\n",
    "    print(1)\n",
    "  case 2:\n",
    "    print(2)\n",
    "  case 3:\n",
    "    print(3)\n",
    "  case 4:\n",
    "    print(4)\n",
    "  case 5:\n",
    "    print(5)\n",
    "  case _:\n",
    "    print('not 1,2,3,4 or 5')\n"
   ]
  },
  {
   "cell_type": "markdown",
   "metadata": {},
   "source": [
    "## Functions"
   ]
  },
  {
   "cell_type": "code",
   "execution_count": 11,
   "metadata": {},
   "outputs": [
    {
     "data": {
      "text/plain": [
       "111"
      ]
     },
     "execution_count": 11,
     "metadata": {},
     "output_type": "execute_result"
    }
   ],
   "source": [
    "def addnumbers(a, b):\n",
    "  return a + b\n",
    "\n",
    "addnumbers(33, 78)\n"
   ]
  },
  {
   "cell_type": "code",
   "execution_count": 16,
   "metadata": {},
   "outputs": [
    {
     "name": "stdout",
     "output_type": "stream",
     "text": [
      "5\n",
      "27\n"
     ]
    }
   ],
   "source": [
    "def addnumbers2(a, *b):\n",
    "  sum1 = a + sum(b)\n",
    "  return sum1\n",
    "\n",
    "print(addnumbers2(2,3))\n",
    "print(addnumbers2(2,3,4,5,6,7))"
   ]
  },
  {
   "cell_type": "markdown",
   "metadata": {},
   "source": [
    "## Arguments (Parameters)"
   ]
  },
  {
   "cell_type": "code",
   "execution_count": 26,
   "metadata": {},
   "outputs": [
    {
     "name": "stdout",
     "output_type": "stream",
     "text": [
      "(34, {})\n",
      "(34, {'six1': 6, 'seven1': 7})\n",
      "(5, {})\n",
      "(14, {'six1': 6, 'seven1': 7})\n"
     ]
    }
   ],
   "source": [
    "def addnumbers3(a, *b, **c):\n",
    "  sum1 = a + sum(b)\n",
    "  return sum1,c\n",
    "\n",
    "print(addnumbers3(34))\n",
    "print(addnumbers3(34, six1=6, seven1=7))\n",
    "print(addnumbers3(2,3))\n",
    "result1 = addnumbers3(2, 3, 4, 5, six1=6, seven1=7 )\n",
    "print(result1)"
   ]
  },
  {
   "cell_type": "code",
   "execution_count": 2,
   "metadata": {},
   "outputs": [
    {
     "name": "stdout",
     "output_type": "stream",
     "text": [
      "1\n",
      "[2, 3, 4]\n",
      "5\n"
     ]
    }
   ],
   "source": [
    "pre1, *mid1, end1 = 1, 2, 3, 4, 5\n",
    "print(pre1)\n",
    "print(mid1)\n",
    "print(end1) "
   ]
  },
  {
   "cell_type": "code",
   "execution_count": 7,
   "metadata": {},
   "outputs": [
    {
     "name": "stdout",
     "output_type": "stream",
     "text": [
      "[None, None, None, None, None, None]\n"
     ]
    }
   ],
   "source": [
    "nonelist = [None] * 6\n",
    "print(nonelist)\n"
   ]
  },
  {
   "cell_type": "code",
   "execution_count": 40,
   "metadata": {},
   "outputs": [
    {
     "data": {
      "text/plain": [
       "'Call me Liam'"
      ]
     },
     "execution_count": 40,
     "metadata": {},
     "output_type": "execute_result"
    }
   ],
   "source": [
    "def parent(num):\n",
    "    def first_child():\n",
    "        return \"Hi, I am Emma\"\n",
    "\n",
    "    def second_child():\n",
    "        return \"Call me Liam\"\n",
    "\n",
    "    if num == 1:\n",
    "        return first_child()\n",
    "    else:\n",
    "        return second_child()\n",
    "\n",
    "parent(2)        "
   ]
  },
  {
   "cell_type": "markdown",
   "metadata": {},
   "source": [
    "## Decorator"
   ]
  },
  {
   "cell_type": "code",
   "execution_count": 65,
   "metadata": {},
   "outputs": [
    {
     "data": {
      "text/plain": [
       "'HELLO THERE YOU'"
      ]
     },
     "execution_count": 65,
     "metadata": {},
     "output_type": "execute_result"
    }
   ],
   "source": [
    "def uppercase_decorator(function):\n",
    "    def wrapper():\n",
    "        func = function()\n",
    "        make_uppercase = func.upper()\n",
    "        return make_uppercase\n",
    "\n",
    "    return wrapper\n",
    "\n",
    "@uppercase_decorator\n",
    "def say_hi():\n",
    "    return 'hello there you'\n",
    "\n",
    "\n",
    "say_hi()\n"
   ]
  },
  {
   "cell_type": "code",
   "execution_count": 68,
   "metadata": {},
   "outputs": [
    {
     "ename": "TypeError",
     "evalue": "f1() got an unexpected keyword argument 'b'",
     "output_type": "error",
     "traceback": [
      "\u001b[1;31m---------------------------------------------------------------------------\u001b[0m",
      "\u001b[1;31mTypeError\u001b[0m                                 Traceback (most recent call last)",
      "\u001b[1;32mc:\\GitRoot\\pyCourseScripts\\JupyterNotebooks\\TeachingPy.ipynb Cell 31\u001b[0m in \u001b[0;36m<cell line: 4>\u001b[1;34m()\u001b[0m\n\u001b[0;32m      <a href='vscode-notebook-cell:/c%3A/GitRoot/pyCourseScripts/JupyterNotebooks/TeachingPy.ipynb#X44sZmlsZQ%3D%3D?line=0'>1</a>\u001b[0m \u001b[39mdef\u001b[39;00m \u001b[39mf1\u001b[39m(\u001b[39m*\u001b[39margs):\n\u001b[0;32m      <a href='vscode-notebook-cell:/c%3A/GitRoot/pyCourseScripts/JupyterNotebooks/TeachingPy.ipynb#X44sZmlsZQ%3D%3D?line=1'>2</a>\u001b[0m   \u001b[39mprint\u001b[39m(args)\n\u001b[1;32m----> <a href='vscode-notebook-cell:/c%3A/GitRoot/pyCourseScripts/JupyterNotebooks/TeachingPy.ipynb#X44sZmlsZQ%3D%3D?line=3'>4</a>\u001b[0m f1(\u001b[39m1\u001b[39;49m,\u001b[39m2\u001b[39;49m,\u001b[39m3\u001b[39;49m,b\u001b[39m=\u001b[39;49m\u001b[39m9\u001b[39;49m)\n",
      "\u001b[1;31mTypeError\u001b[0m: f1() got an unexpected keyword argument 'b'"
     ]
    }
   ],
   "source": [
    "def f1(*args):\n",
    "  print(args)\n",
    "\n",
    "f1(1,2,3,b=9)  "
   ]
  },
  {
   "cell_type": "code",
   "execution_count": 70,
   "metadata": {},
   "outputs": [
    {
     "name": "stdout",
     "output_type": "stream",
     "text": [
      "(1, 2, 3) {'b': 9}\n"
     ]
    }
   ],
   "source": [
    "def f1(*args, **kwargs):\n",
    "  print(args,kwargs)\n",
    "\n",
    "f1(1,2,3,b=9)  "
   ]
  },
  {
   "cell_type": "markdown",
   "metadata": {},
   "source": [
    "## Decorator example"
   ]
  },
  {
   "cell_type": "code",
   "execution_count": 2,
   "metadata": {},
   "outputs": [
    {
     "name": "stdout",
     "output_type": "stream",
     "text": [
      "Cannot divide by 0\n"
     ]
    }
   ],
   "source": [
    "def check(func): # Decorator\n",
    "  def inside(x,y):\n",
    "    if y == 0:\n",
    "      print('Cannot divide by 0')\n",
    "      return\n",
    "    func(x,y)\n",
    "  return(inside)\n",
    "\n",
    "@check\n",
    "def div1(a,b):\n",
    "  print(a/b)\n",
    "\n",
    "div1(34,0)\n"
   ]
  },
  {
   "cell_type": "code",
   "execution_count": 18,
   "metadata": {},
   "outputs": [
    {
     "ename": "ValueError",
     "evalue": "This is my error",
     "output_type": "error",
     "traceback": [
      "\u001b[1;31m---------------------------------------------------------------------------\u001b[0m",
      "\u001b[1;31mValueError\u001b[0m                                Traceback (most recent call last)",
      "\u001b[1;32mc:\\GitRoot\\pyCourseScripts\\JupyterNotebooks\\TeachingPy.ipynb Cell 25\u001b[0m in \u001b[0;36m<cell line: 1>\u001b[1;34m()\u001b[0m\n\u001b[1;32m----> <a href='vscode-notebook-cell:/c%3A/GitRoot/pyCourseScripts/JupyterNotebooks/TeachingPy.ipynb#X56sZmlsZQ%3D%3D?line=0'>1</a>\u001b[0m \u001b[39mraise\u001b[39;00m \u001b[39mValueError\u001b[39;00m(\u001b[39m'\u001b[39m\u001b[39mThis is my error\u001b[39m\u001b[39m'\u001b[39m)\n",
      "\u001b[1;31mValueError\u001b[0m: This is my error"
     ]
    }
   ],
   "source": []
  },
  {
   "cell_type": "markdown",
   "metadata": {},
   "source": [
    "## Decorators"
   ]
  },
  {
   "cell_type": "code",
   "execution_count": 88,
   "metadata": {},
   "outputs": [
    {
     "name": "stdout",
     "output_type": "stream",
     "text": [
      "b\n"
     ]
    }
   ],
   "source": [
    "def turn_into_another_func(func):\n",
    "\n",
    "  return(bfunc)\n",
    "\n",
    "\n",
    "@turn_into_another_func # this does the same thing as the commented line below\n",
    "def afunc():\n",
    "  print('a')\n",
    "\n",
    "def bfunc():\n",
    "  print('b')\n",
    "\n",
    "#afunc = turn_into_another_func(bfunc)  # this replaces the object afunc with  turn_into_another_func passing the bfunc as the argument\n",
    "\n",
    "afunc()\n",
    "\n",
    "\n",
    "\n"
   ]
  },
  {
   "cell_type": "markdown",
   "metadata": {},
   "source": [
    "## Decorator\n",
    "- the camelcase function was not able to accept a list of values\n",
    "- the decorator assists by allowing a list of values to be used by the camelcase function "
   ]
  },
  {
   "cell_type": "code",
   "execution_count": 104,
   "metadata": {},
   "outputs": [
    {
     "data": {
      "text/plain": [
       "['BrentDenny', 'DianneDenny']"
      ]
     },
     "execution_count": 104,
     "metadata": {},
     "output_type": "execute_result"
    }
   ],
   "source": [
    "from functools import wraps\n",
    "\n",
    "def mapper(func):\n",
    "  @wraps(func)\n",
    "  def inner(listofval):\n",
    "    return [func(value) for value in listofval]\n",
    "  return inner  \n",
    "\n",
    "\n",
    "@mapper\n",
    "def camelcase(s):\n",
    "  '''This is the camelcase doc string'''\n",
    "  return ''.join([word.capitalize() for word in s.split('_')])\n",
    "\n",
    "name = [\n",
    "  'brent_denny',\n",
    "  'dianne_denny'\n",
    "]\n",
    "camelcase(name)  \n"
   ]
  },
  {
   "cell_type": "code",
   "execution_count": 7,
   "metadata": {},
   "outputs": [
    {
     "data": {
      "text/plain": [
       "[0, 1, 2, 3, 4, 5, 6, 7, 8, 9]"
      ]
     },
     "execution_count": 7,
     "metadata": {},
     "output_type": "execute_result"
    }
   ],
   "source": [
    "[i for i in range(10)]"
   ]
  },
  {
   "cell_type": "code",
   "execution_count": 8,
   "metadata": {},
   "outputs": [
    {
     "name": "stdout",
     "output_type": "stream",
     "text": [
      "[(1, 'Apples'), (1, 'Peaches'), (1, 'Pears'), (1, 'Bananas'), (2, 'Apples'), (2, 'Peaches'), (2, 'Pears'), (2, 'Bananas'), (3, 'Apples'), (3, 'Peaches'), (3, 'Pears'), (3, 'Bananas'), (4, 'Apples'), (4, 'Peaches'), (4, 'Pears'), (4, 'Bananas')]\n"
     ]
    }
   ],
   "source": [
    "nums = [1, 2, 3, 4]\n",
    "fruit = [\"Apples\", \"Peaches\", \"Pears\", \"Bananas\"]\n",
    "print([(i, f) for i in nums for f in fruit])\n"
   ]
  }
 ],
 "metadata": {
  "kernelspec": {
   "display_name": "Python 3.10.6 64-bit",
   "language": "python",
   "name": "python3"
  },
  "language_info": {
   "codemirror_mode": {
    "name": "ipython",
    "version": 3
   },
   "file_extension": ".py",
   "mimetype": "text/x-python",
   "name": "python",
   "nbconvert_exporter": "python",
   "pygments_lexer": "ipython3",
   "version": "3.10.6"
  },
  "orig_nbformat": 4,
  "vscode": {
   "interpreter": {
    "hash": "917c2fcfba35f78a8c6240e40e0068b9d5bef1e4004d7bc74bf2323334ee950e"
   }
  }
 },
 "nbformat": 4,
 "nbformat_minor": 2
}
