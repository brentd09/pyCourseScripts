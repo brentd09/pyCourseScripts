{
 "cells": [
  {
   "cell_type": "markdown",
   "metadata": {},
   "source": [
    "## numbers"
   ]
  },
  {
   "cell_type": "code",
   "execution_count": 1,
   "metadata": {},
   "outputs": [
    {
     "name": "stdout",
     "output_type": "stream",
     "text": [
      "<class 'int'> <class 'float'>\n"
     ]
    }
   ],
   "source": [
    "int1 = 123\n",
    "float1  = 123.4\n",
    "print(type(int1), type(float1))"
   ]
  },
  {
   "cell_type": "markdown",
   "metadata": {},
   "source": [
    "## collections"
   ]
  },
  {
   "cell_type": "code",
   "execution_count": 3,
   "metadata": {},
   "outputs": [
    {
     "name": "stdout",
     "output_type": "stream",
     "text": [
      "(1, 2, 3) [1, 2, 3] {1, 2, 3} {'one': 1, 'two': 2}\n"
     ]
    }
   ],
   "source": [
    "tuple1 = (1,2,3) # tuples : less memory, faster, unchangable, used for simple arrays\n",
    "list1 = [1,2,3]  # lists  : dynamic so uses more memory, changable, slower, used when the array needs to be manipulated\n",
    "set1 = {1,2,3}   # sets   : only has unique values, can detect unions, intersections, subsets. Converting a list to a set will eliminate duplicate values\n",
    "dict1 = {'one':1,'two':2} # dict: used to give context to the values, changable. \n",
    "print(tuple1,list1,set1,dict1)"
   ]
  },
  {
   "cell_type": "markdown",
   "metadata": {},
   "source": [
    "## conditionals"
   ]
  },
  {
   "cell_type": "code",
   "execution_count": 6,
   "metadata": {},
   "outputs": [
    {
     "name": "stdout",
     "output_type": "stream",
     "text": [
      "Equals 4\n"
     ]
    }
   ],
   "source": [
    "a = 4\n",
    "if a > 4:\n",
    "  print('Over 4')\n",
    "elif a < 4:            # if elif is needed there can be any number of elif statements in an if\n",
    "  print('Under 4')\n",
    "else:                  # if else is needed there can only be one at the end of the if\n",
    "  print(\"Equals 4\")      "
   ]
  },
  {
   "cell_type": "markdown",
   "metadata": {},
   "source": [
    "##### Terany statements"
   ]
  },
  {
   "cell_type": "code",
   "execution_count": 8,
   "metadata": {},
   "outputs": [
    {
     "name": "stdout",
     "output_type": "stream",
     "text": [
      "not over 4\n"
     ]
    }
   ],
   "source": [
    "a = 2\n",
    "val = \"over 4\" if a > 4 else \"not over 4\"\n",
    "print(val)"
   ]
  },
  {
   "cell_type": "markdown",
   "metadata": {},
   "source": [
    "##### Match"
   ]
  },
  {
   "cell_type": "code",
   "execution_count": 10,
   "metadata": {},
   "outputs": [
    {
     "name": "stdout",
     "output_type": "stream",
     "text": [
      "not 1,2,3,4 or 5\n"
     ]
    }
   ],
   "source": [
    "a = 6\n",
    "match a:\n",
    "  case 1:\n",
    "    print(1)\n",
    "  case 2:\n",
    "    print(2)\n",
    "  case 3:\n",
    "    print(3)\n",
    "  case 4:\n",
    "    print(4)\n",
    "  case 5:\n",
    "    print(5)\n",
    "  case _:\n",
    "    print('not 1,2,3,4 or 5')\n"
   ]
  },
  {
   "cell_type": "markdown",
   "metadata": {},
   "source": [
    "## Functions"
   ]
  },
  {
   "cell_type": "code",
   "execution_count": 11,
   "metadata": {},
   "outputs": [
    {
     "data": {
      "text/plain": [
       "111"
      ]
     },
     "execution_count": 11,
     "metadata": {},
     "output_type": "execute_result"
    }
   ],
   "source": [
    "def addnumbers(a, b):\n",
    "  return a + b\n",
    "\n",
    "addnumbers(33, 78)\n"
   ]
  },
  {
   "cell_type": "code",
   "execution_count": 16,
   "metadata": {},
   "outputs": [
    {
     "name": "stdout",
     "output_type": "stream",
     "text": [
      "5\n",
      "27\n"
     ]
    }
   ],
   "source": [
    "def addnumbers2(a, *b):\n",
    "  sum1 = a + sum(b)\n",
    "  return sum1\n",
    "\n",
    "print(addnumbers2(2,3))\n",
    "print(addnumbers2(2,3,4,5,6,7))"
   ]
  },
  {
   "cell_type": "markdown",
   "metadata": {},
   "source": [
    "## Arguments (Parameters)"
   ]
  },
  {
   "cell_type": "code",
   "execution_count": 26,
   "metadata": {},
   "outputs": [
    {
     "name": "stdout",
     "output_type": "stream",
     "text": [
      "(34, {})\n",
      "(34, {'six1': 6, 'seven1': 7})\n",
      "(5, {})\n",
      "(14, {'six1': 6, 'seven1': 7})\n"
     ]
    }
   ],
   "source": [
    "def addnumbers3(a, *b, **c):\n",
    "  sum1 = a + sum(b)\n",
    "  return sum1,c\n",
    "\n",
    "print(addnumbers3(34))\n",
    "print(addnumbers3(34, six1=6, seven1=7))\n",
    "print(addnumbers3(2,3))\n",
    "result1 = addnumbers3(2, 3, 4, 5, six1=6, seven1=7 )\n",
    "print(result1)"
   ]
  },
  {
   "cell_type": "code",
   "execution_count": null,
   "metadata": {},
   "outputs": [],
   "source": []
  },
  {
   "cell_type": "code",
   "execution_count": null,
   "metadata": {},
   "outputs": [],
   "source": []
  }
 ],
 "metadata": {
  "kernelspec": {
   "display_name": "Python 3.10.6 64-bit",
   "language": "python",
   "name": "python3"
  },
  "language_info": {
   "codemirror_mode": {
    "name": "ipython",
    "version": 3
   },
   "file_extension": ".py",
   "mimetype": "text/x-python",
   "name": "python",
   "nbconvert_exporter": "python",
   "pygments_lexer": "ipython3",
   "version": "3.10.6"
  },
  "orig_nbformat": 4,
  "vscode": {
   "interpreter": {
    "hash": "917c2fcfba35f78a8c6240e40e0068b9d5bef1e4004d7bc74bf2323334ee950e"
   }
  }
 },
 "nbformat": 4,
 "nbformat_minor": 2
}
