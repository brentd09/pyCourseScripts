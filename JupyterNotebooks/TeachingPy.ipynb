{
 "cells": [
  {
   "cell_type": "markdown",
   "metadata": {},
   "source": [
    "## numbers"
   ]
  },
  {
   "cell_type": "code",
   "execution_count": 1,
   "metadata": {},
   "outputs": [
    {
     "name": "stdout",
     "output_type": "stream",
     "text": [
      "<class 'int'> <class 'float'>\n"
     ]
    }
   ],
   "source": [
    "int1 = 123\n",
    "float1  = 123.4\n",
    "print(type(int1), type(float1))"
   ]
  },
  {
   "cell_type": "markdown",
   "metadata": {},
   "source": [
    "## collections"
   ]
  },
  {
   "cell_type": "code",
   "execution_count": 3,
   "metadata": {},
   "outputs": [
    {
     "name": "stdout",
     "output_type": "stream",
     "text": [
      "(1, 2, 3) [1, 2, 3] {1, 2, 3} {'one': 1, 'two': 2}\n"
     ]
    }
   ],
   "source": [
    "tuple1 = (1,2,3) # tuples : less memory, faster, unchangable, used for simple arrays\n",
    "list1 = [1,2,3]  # lists  : dynamic so uses more memory, changable, slower, used when the array needs to be manipulated\n",
    "set1 = {1,2,3}   # sets   : only has unique values, can detect unions, intersections, subsets. Converting a list to a set will eliminate duplicate values\n",
    "dict1 = {'one':1,'two':2} # dict: used to give context to the values, changable. \n",
    "print(tuple1,list1,set1,dict1)"
   ]
  },
  {
   "cell_type": "markdown",
   "metadata": {},
   "source": [
    "## conditionals"
   ]
  },
  {
   "cell_type": "code",
   "execution_count": 6,
   "metadata": {},
   "outputs": [
    {
     "name": "stdout",
     "output_type": "stream",
     "text": [
      "Equals 4\n"
     ]
    }
   ],
   "source": [
    "a = 4\n",
    "if a > 4:\n",
    "  print('Over 4')\n",
    "elif a < 4:            # if elif is needed there can be any number of elif statements in an if\n",
    "  print('Under 4')\n",
    "else:                  # if else is needed there can only be one at the end of the if\n",
    "  print(\"Equals 4\")      "
   ]
  },
  {
   "cell_type": "markdown",
   "metadata": {},
   "source": [
    "##### Ternany statements"
   ]
  },
  {
   "cell_type": "code",
   "execution_count": 8,
   "metadata": {},
   "outputs": [
    {
     "name": "stdout",
     "output_type": "stream",
     "text": [
      "not over 4\n"
     ]
    }
   ],
   "source": [
    "a = 2\n",
    "val = \"over 4\" if a > 4 else \"not over 4\"\n",
    "print(val)"
   ]
  },
  {
   "cell_type": "markdown",
   "metadata": {},
   "source": [
    "##### Match"
   ]
  },
  {
   "cell_type": "code",
   "execution_count": 10,
   "metadata": {},
   "outputs": [
    {
     "name": "stdout",
     "output_type": "stream",
     "text": [
      "not 1,2,3,4 or 5\n"
     ]
    }
   ],
   "source": [
    "a = 6\n",
    "match a:\n",
    "  case 1:\n",
    "    print(1)\n",
    "  case 2:\n",
    "    print(2)\n",
    "  case 3:\n",
    "    print(3)\n",
    "  case 4:\n",
    "    print(4)\n",
    "  case 5:\n",
    "    print(5)\n",
    "  case _:\n",
    "    print('not 1,2,3,4 or 5')\n"
   ]
  },
  {
   "cell_type": "markdown",
   "metadata": {},
   "source": [
    "## Functions"
   ]
  },
  {
   "cell_type": "code",
   "execution_count": 11,
   "metadata": {},
   "outputs": [
    {
     "data": {
      "text/plain": [
       "111"
      ]
     },
     "execution_count": 11,
     "metadata": {},
     "output_type": "execute_result"
    }
   ],
   "source": [
    "def addnumbers(a, b):\n",
    "  return a + b\n",
    "\n",
    "addnumbers(33, 78)\n"
   ]
  },
  {
   "cell_type": "code",
   "execution_count": 16,
   "metadata": {},
   "outputs": [
    {
     "name": "stdout",
     "output_type": "stream",
     "text": [
      "5\n",
      "27\n"
     ]
    }
   ],
   "source": [
    "def addnumbers2(a, *b):\n",
    "  sum1 = a + sum(b)\n",
    "  return sum1\n",
    "\n",
    "print(addnumbers2(2,3))\n",
    "print(addnumbers2(2,3,4,5,6,7))"
   ]
  },
  {
   "cell_type": "markdown",
   "metadata": {},
   "source": [
    "## Arguments (Parameters)"
   ]
  },
  {
   "cell_type": "code",
   "execution_count": 26,
   "metadata": {},
   "outputs": [
    {
     "name": "stdout",
     "output_type": "stream",
     "text": [
      "(34, {})\n",
      "(34, {'six1': 6, 'seven1': 7})\n",
      "(5, {})\n",
      "(14, {'six1': 6, 'seven1': 7})\n"
     ]
    }
   ],
   "source": [
    "def addnumbers3(a, *b, **c):\n",
    "  sum1 = a + sum(b)\n",
    "  return sum1,c\n",
    "\n",
    "print(addnumbers3(34))\n",
    "print(addnumbers3(34, six1=6, seven1=7))\n",
    "print(addnumbers3(2,3))\n",
    "result1 = addnumbers3(2, 3, 4, 5, six1=6, seven1=7 )\n",
    "print(result1)"
   ]
  },
  {
   "cell_type": "code",
   "execution_count": 2,
   "metadata": {},
   "outputs": [
    {
     "name": "stdout",
     "output_type": "stream",
     "text": [
      "1\n",
      "[2, 3, 4]\n",
      "5\n"
     ]
    }
   ],
   "source": [
    "pre1, *mid1, end1 = 1, 2, 3, 4, 5\n",
    "print(pre1)\n",
    "print(mid1)\n",
    "print(end1) "
   ]
  },
  {
   "cell_type": "code",
   "execution_count": 7,
   "metadata": {},
   "outputs": [
    {
     "name": "stdout",
     "output_type": "stream",
     "text": [
      "[None, None, None, None, None, None]\n"
     ]
    }
   ],
   "source": [
    "nonelist = [None] * 6\n",
    "print(nonelist)\n"
   ]
  },
  {
   "cell_type": "markdown",
   "metadata": {},
   "source": [
    "## Lion and Wilderbeast puzzle\n",
    "- We start with 3 lions and 3 wilderbeast on the right side of the river\n",
    "- River is full of crocodiles\n",
    "- A raft can take a maximum of two animals\n",
    "- If the lions ever outnumber the wilderbeast - quiz is over **BADLY**\n",
    "- If wilderbeast outnumber lions there is no problem\n",
    "- If all of the animals get to cross the river without being eaten, the croosing was successful"
   ]
  },
  {
   "cell_type": "code",
   "execution_count": 1,
   "metadata": {},
   "outputs": [
    {
     "name": "stdout",
     "output_type": "stream",
     "text": [
      "{'w': 1, 'l': 0}\n",
      "{'w': 0, 'l': 1}\n",
      "{'w': 2, 'l': 0}\n",
      "{'w': 0, 'l': 2}\n",
      "{'w': 1, 'l': 1}\n"
     ]
    }
   ],
   "source": [
    "# Start of the quiz\n",
    "Cross = ({'l': 1, 'w': 0},{'l': 0, 'w': 1},{'l': 2, 'w': 0},{'l': 0, 'w': 2},{'l': 1, 'w': 1})\n",
    "ll = wl = 0\n",
    "lr = wr = 3\n",
    "raft = 'right'\n",
    "\n",
    "def CrossRiver():\n",
    "    \n",
    "if raft == 'right': # Raft is going from right to left\n"
   ]
  },
  {
   "cell_type": "code",
   "execution_count": 5,
   "metadata": {},
   "outputs": [
    {
     "name": "stdout",
     "output_type": "stream",
     "text": [
      "newt1 ---> 11\n",
      "newt1 ---> 21\n",
      "newt1 ---> 31\n",
      "newt1 ---> 41\n",
      "t1 ---> 1\n"
     ]
    }
   ],
   "source": [
    "t1 = 1\n",
    "def ch(newt1):\n",
    "  newt1 = newt1 + 10\n",
    "  if newt1 > 50:\n",
    "    return\n",
    "  print('newt1 --->',end=' ')\n",
    "  print(newt1)\n",
    "  ch(newt1)\n",
    "\n",
    "ch(t1)\n",
    "print('t1 --->',end=' ')\n",
    "print(t1)"
   ]
  },
  {
   "cell_type": "code",
   "execution_count": 16,
   "metadata": {},
   "outputs": [
    {
     "name": "stdout",
     "output_type": "stream",
     "text": [
      "t h i\n"
     ]
    }
   ],
   "source": [
    "s = 'this is a string'  \n",
    "b1 = iter(s)\n",
    "print(\n",
    "  next(b1),\n",
    "  next(b1),\n",
    "  next(b1)\n",
    ")"
   ]
  },
  {
   "cell_type": "code",
   "execution_count": 19,
   "metadata": {},
   "outputs": [
    {
     "name": "stdout",
     "output_type": "stream",
     "text": [
      "t\n",
      "h\n",
      "i\n",
      "s\n",
      " \n",
      "i\n",
      "s\n",
      " \n",
      "a\n",
      " \n",
      "s\n",
      "t\n",
      "r\n",
      "i\n",
      "n\n",
      "g\n"
     ]
    }
   ],
   "source": [
    "s = 'this is a string'  \n",
    "for l in s:\n",
    "  print(l)"
   ]
  },
  {
   "cell_type": "code",
   "execution_count": 21,
   "metadata": {},
   "outputs": [
    {
     "name": "stdout",
     "output_type": "stream",
     "text": [
      "Python Library Documentation: int object\n",
      "\n",
      "class int(object)\n",
      " |  int([x]) -> integer\n",
      " |  int(x, base=10) -> integer\n",
      " |  \n",
      " |  Convert a number or string to an integer, or return 0 if no arguments\n",
      " |  are given.  If x is a number, return x.__int__().  For floating point\n",
      " |  numbers, this truncates towards zero.\n",
      " |  \n",
      " |  If x is not a number or if base is given, then x must be a string,\n",
      " |  bytes, or bytearray instance representing an integer literal in the\n",
      " |  given base.  The literal can be preceded by '+' or '-' and be surrounded\n",
      " |  by whitespace.  The base defaults to 10.  Valid bases are 0 and 2-36.\n",
      " |  Base 0 means to interpret the base from the string as an integer literal.\n",
      " |  >>> int('0b100', base=0)\n",
      " |  4\n",
      " |  \n",
      " |  Built-in subclasses:\n",
      " |      bool\n",
      " |  \n",
      " |  Methods defined here:\n",
      " |  \n",
      " |  __abs__(self, /)\n",
      " |      abs(self)\n",
      " |  \n",
      " |  __add__(self, value, /)\n",
      " |      Return self+value.\n",
      " |  \n",
      " |  __and__(self, value, /)\n",
      " |      Return self&value.\n",
      " |  \n",
      " |  __bool__(self, /)\n",
      " |      True if self else False\n",
      " |  \n",
      " |  __ceil__(...)\n",
      " |      Ceiling of an Integral returns itself.\n",
      " |  \n",
      " |  __divmod__(self, value, /)\n",
      " |      Return divmod(self, value).\n",
      " |  \n",
      " |  __eq__(self, value, /)\n",
      " |      Return self==value.\n",
      " |  \n",
      " |  __float__(self, /)\n",
      " |      float(self)\n",
      " |  \n",
      " |  __floor__(...)\n",
      " |      Flooring an Integral returns itself.\n",
      " |  \n",
      " |  __floordiv__(self, value, /)\n",
      " |      Return self//value.\n",
      " |  \n",
      " |  __format__(self, format_spec, /)\n",
      " |      Default object formatter.\n",
      " |  \n",
      " |  __ge__(self, value, /)\n",
      " |      Return self>=value.\n",
      " |  \n",
      " |  __getattribute__(self, name, /)\n",
      " |      Return getattr(self, name).\n",
      " |  \n",
      " |  __getnewargs__(self, /)\n",
      " |  \n",
      " |  __gt__(self, value, /)\n",
      " |      Return self>value.\n",
      " |  \n",
      " |  __hash__(self, /)\n",
      " |      Return hash(self).\n",
      " |  \n",
      " |  __index__(self, /)\n",
      " |      Return self converted to an integer, if self is suitable for use as an index into a list.\n",
      " |  \n",
      " |  __int__(self, /)\n",
      " |      int(self)\n",
      " |  \n",
      " |  __invert__(self, /)\n",
      " |      ~self\n",
      " |  \n",
      " |  __le__(self, value, /)\n",
      " |      Return self<=value.\n",
      " |  \n",
      " |  __lshift__(self, value, /)\n",
      " |      Return self<<value.\n",
      " |  \n",
      " |  __lt__(self, value, /)\n",
      " |      Return self<value.\n",
      " |  \n",
      " |  __mod__(self, value, /)\n",
      " |      Return self%value.\n",
      " |  \n",
      " |  __mul__(self, value, /)\n",
      " |      Return self*value.\n",
      " |  \n",
      " |  __ne__(self, value, /)\n",
      " |      Return self!=value.\n",
      " |  \n",
      " |  __neg__(self, /)\n",
      " |      -self\n",
      " |  \n",
      " |  __or__(self, value, /)\n",
      " |      Return self|value.\n",
      " |  \n",
      " |  __pos__(self, /)\n",
      " |      +self\n",
      " |  \n",
      " |  __pow__(self, value, mod=None, /)\n",
      " |      Return pow(self, value, mod).\n",
      " |  \n",
      " |  __radd__(self, value, /)\n",
      " |      Return value+self.\n",
      " |  \n",
      " |  __rand__(self, value, /)\n",
      " |      Return value&self.\n",
      " |  \n",
      " |  __rdivmod__(self, value, /)\n",
      " |      Return divmod(value, self).\n",
      " |  \n",
      " |  __repr__(self, /)\n",
      " |      Return repr(self).\n",
      " |  \n",
      " |  __rfloordiv__(self, value, /)\n",
      " |      Return value//self.\n",
      " |  \n",
      " |  __rlshift__(self, value, /)\n",
      " |      Return value<<self.\n",
      " |  \n",
      " |  __rmod__(self, value, /)\n",
      " |      Return value%self.\n",
      " |  \n",
      " |  __rmul__(self, value, /)\n",
      " |      Return value*self.\n",
      " |  \n",
      " |  __ror__(self, value, /)\n",
      " |      Return value|self.\n",
      " |  \n",
      " |  __round__(...)\n",
      " |      Rounding an Integral returns itself.\n",
      " |      \n",
      " |      Rounding with an ndigits argument also returns an integer.\n",
      " |  \n",
      " |  __rpow__(self, value, mod=None, /)\n",
      " |      Return pow(value, self, mod).\n",
      " |  \n",
      " |  __rrshift__(self, value, /)\n",
      " |      Return value>>self.\n",
      " |  \n",
      " |  __rshift__(self, value, /)\n",
      " |      Return self>>value.\n",
      " |  \n",
      " |  __rsub__(self, value, /)\n",
      " |      Return value-self.\n",
      " |  \n",
      " |  __rtruediv__(self, value, /)\n",
      " |      Return value/self.\n",
      " |  \n",
      " |  __rxor__(self, value, /)\n",
      " |      Return value^self.\n",
      " |  \n",
      " |  __sizeof__(self, /)\n",
      " |      Returns size in memory, in bytes.\n",
      " |  \n",
      " |  __sub__(self, value, /)\n",
      " |      Return self-value.\n",
      " |  \n",
      " |  __truediv__(self, value, /)\n",
      " |      Return self/value.\n",
      " |  \n",
      " |  __trunc__(...)\n",
      " |      Truncating an Integral returns itself.\n",
      " |  \n",
      " |  __xor__(self, value, /)\n",
      " |      Return self^value.\n",
      " |  \n",
      " |  as_integer_ratio(self, /)\n",
      " |      Return integer ratio.\n",
      " |      \n",
      " |      Return a pair of integers, whose ratio is exactly equal to the original int\n",
      " |      and with a positive denominator.\n",
      " |      \n",
      " |      >>> (10).as_integer_ratio()\n",
      " |      (10, 1)\n",
      " |      >>> (-10).as_integer_ratio()\n",
      " |      (-10, 1)\n",
      " |      >>> (0).as_integer_ratio()\n",
      " |      (0, 1)\n",
      " |  \n",
      " |  bit_count(self, /)\n",
      " |      Number of ones in the binary representation of the absolute value of self.\n",
      " |      \n",
      " |      Also known as the population count.\n",
      " |      \n",
      " |      >>> bin(13)\n",
      " |      '0b1101'\n",
      " |      >>> (13).bit_count()\n",
      " |      3\n",
      " |  \n",
      " |  bit_length(self, /)\n",
      " |      Number of bits necessary to represent self in binary.\n",
      " |      \n",
      " |      >>> bin(37)\n",
      " |      '0b100101'\n",
      " |      >>> (37).bit_length()\n",
      " |      6\n",
      " |  \n",
      " |  conjugate(...)\n",
      " |      Returns self, the complex conjugate of any int.\n",
      " |  \n",
      " |  to_bytes(self, /, length, byteorder, *, signed=False)\n",
      " |      Return an array of bytes representing an integer.\n",
      " |      \n",
      " |      length\n",
      " |        Length of bytes object to use.  An OverflowError is raised if the\n",
      " |        integer is not representable with the given number of bytes.\n",
      " |      byteorder\n",
      " |        The byte order used to represent the integer.  If byteorder is 'big',\n",
      " |        the most significant byte is at the beginning of the byte array.  If\n",
      " |        byteorder is 'little', the most significant byte is at the end of the\n",
      " |        byte array.  To request the native byte order of the host system, use\n",
      " |        `sys.byteorder' as the byte order value.\n",
      " |      signed\n",
      " |        Determines whether two's complement is used to represent the integer.\n",
      " |        If signed is False and a negative integer is given, an OverflowError\n",
      " |        is raised.\n",
      " |  \n",
      " |  ----------------------------------------------------------------------\n",
      " |  Class methods defined here:\n",
      " |  \n",
      " |  from_bytes(bytes, byteorder, *, signed=False) from builtins.type\n",
      " |      Return the integer represented by the given array of bytes.\n",
      " |      \n",
      " |      bytes\n",
      " |        Holds the array of bytes to convert.  The argument must either\n",
      " |        support the buffer protocol or be an iterable object producing bytes.\n",
      " |        Bytes and bytearray are examples of built-in objects that support the\n",
      " |        buffer protocol.\n",
      " |      byteorder\n",
      " |        The byte order used to represent the integer.  If byteorder is 'big',\n",
      " |        the most significant byte is at the beginning of the byte array.  If\n",
      " |        byteorder is 'little', the most significant byte is at the end of the\n",
      " |        byte array.  To request the native byte order of the host system, use\n",
      " |        `sys.byteorder' as the byte order value.\n",
      " |      signed\n",
      " |        Indicates whether two's complement is used to represent the integer.\n",
      " |  \n",
      " |  ----------------------------------------------------------------------\n",
      " |  Static methods defined here:\n",
      " |  \n",
      " |  __new__(*args, **kwargs) from builtins.type\n",
      " |      Create and return a new object.  See help(type) for accurate signature.\n",
      " |  \n",
      " |  ----------------------------------------------------------------------\n",
      " |  Data descriptors defined here:\n",
      " |  \n",
      " |  denominator\n",
      " |      the denominator of a rational number in lowest terms\n",
      " |  \n",
      " |  imag\n",
      " |      the imaginary part of a complex number\n",
      " |  \n",
      " |  numerator\n",
      " |      the numerator of a rational number in lowest terms\n",
      " |  \n",
      " |  real\n",
      " |      the real part of a complex number\n"
     ]
    }
   ],
   "source": [
    "from pydoc import doc\n",
    "\n",
    "\n",
    "n = 123\n",
    "doc(n)"
   ]
  },
  {
   "cell_type": "code",
   "execution_count": 28,
   "metadata": {},
   "outputs": [
    {
     "name": "stdout",
     "output_type": "stream",
     "text": [
      "[1, 2, 3, 4, 5, 6] -- [1, 2, 3, 4, 5]\n"
     ]
    }
   ],
   "source": [
    "lst1 = [1,2,3,4,5]\n",
    "\n",
    "def addtolist(l1):\n",
    "  cpl1 = l1.copy()\n",
    "  cpl1.append(6)\n",
    "  return(cpl1)\n",
    "\n",
    "newlst1 = addtolist(lst1)\n",
    "print(newlst1, '--', lst1)"
   ]
  },
  {
   "cell_type": "code",
   "execution_count": 36,
   "metadata": {},
   "outputs": [
    {
     "name": "stdout",
     "output_type": "stream",
     "text": [
      "outer\n",
      "inner\n"
     ]
    },
    {
     "ename": "NameError",
     "evalue": "name 'innerfn' is not defined",
     "output_type": "error",
     "traceback": [
      "\u001b[1;31m---------------------------------------------------------------------------\u001b[0m",
      "\u001b[1;31mNameError\u001b[0m                                 Traceback (most recent call last)",
      "\u001b[1;32mc:\\GitRoot\\pyCourseScripts\\JupyterNotebooks\\TeachingPy.ipynb Cell 25\u001b[0m in \u001b[0;36m<cell line: 8>\u001b[1;34m()\u001b[0m\n\u001b[0;32m      <a href='vscode-notebook-cell:/c%3A/GitRoot/pyCourseScripts/JupyterNotebooks/TeachingPy.ipynb#X33sZmlsZQ%3D%3D?line=4'>5</a>\u001b[0m   innerfn()\n\u001b[0;32m      <a href='vscode-notebook-cell:/c%3A/GitRoot/pyCourseScripts/JupyterNotebooks/TeachingPy.ipynb#X33sZmlsZQ%3D%3D?line=6'>7</a>\u001b[0m outerfn()\n\u001b[1;32m----> <a href='vscode-notebook-cell:/c%3A/GitRoot/pyCourseScripts/JupyterNotebooks/TeachingPy.ipynb#X33sZmlsZQ%3D%3D?line=7'>8</a>\u001b[0m innerfn()\n",
      "\u001b[1;31mNameError\u001b[0m: name 'innerfn' is not defined"
     ]
    }
   ],
   "source": [
    "def outerfn():\n",
    "  def innerfn():\n",
    "    print ('inner')\n",
    "  print('outer')\n",
    "  innerfn()\n",
    "\n",
    "outerfn()\n",
    "innerfn()"
   ]
  },
  {
   "cell_type": "code",
   "execution_count": 40,
   "metadata": {},
   "outputs": [
    {
     "data": {
      "text/plain": [
       "'Call me Liam'"
      ]
     },
     "execution_count": 40,
     "metadata": {},
     "output_type": "execute_result"
    }
   ],
   "source": [
    "def parent(num):\n",
    "    def first_child():\n",
    "        return \"Hi, I am Emma\"\n",
    "\n",
    "    def second_child():\n",
    "        return \"Call me Liam\"\n",
    "\n",
    "    if num == 1:\n",
    "        return first_child()\n",
    "    else:\n",
    "        return second_child()\n",
    "\n",
    "parent(2)        "
   ]
  },
  {
   "cell_type": "code",
   "execution_count": 106,
   "metadata": {},
   "outputs": [
    {
     "name": "stdout",
     "output_type": "stream",
     "text": [
      "Help on function newfn in module __main__:\n",
      "\n",
      "newfn()\n",
      "    SYNOPSIS\n",
      "      this is a quick description\n",
      "    DESCRIPTION\n",
      "      this is a more detailed description\n",
      "    EXAMPLE\n",
      "      newfn()\n",
      "      This will run the fn and produce the word hello\n",
      "\n"
     ]
    }
   ],
   "source": [
    "\n",
    "def newfn():\n",
    "  '''\n",
    "    SYNOPSIS\n",
    "      this is a quick description\n",
    "    DESCRIPTION\n",
    "      this is a more detailed description\n",
    "    EXAMPLE\n",
    "      newfn()\n",
    "      This will run the fn and produce the word hello    \n",
    "  '''\n",
    "  return 'hello'\n",
    "\n",
    "help(newfn)"
   ]
  },
  {
   "cell_type": "code",
   "execution_count": 56,
   "metadata": {},
   "outputs": [
    {
     "data": {
      "text/plain": [
       "5"
      ]
     },
     "execution_count": 56,
     "metadata": {},
     "output_type": "execute_result"
    }
   ],
   "source": [
    "def plus_one(number):\n",
    "    def add_one(number):\n",
    "        return number + 1\n",
    "\n",
    "\n",
    "    result = add_one(number)\n",
    "    return result\n",
    "plus_one(4)\n"
   ]
  },
  {
   "cell_type": "code",
   "execution_count": 57,
   "metadata": {},
   "outputs": [
    {
     "data": {
      "text/plain": [
       "6"
      ]
     },
     "execution_count": 57,
     "metadata": {},
     "output_type": "execute_result"
    }
   ],
   "source": [
    "def plus_one(number):\n",
    "    return number + 1\n",
    "\n",
    "def function_call(function):\n",
    "    number_to_add = 5\n",
    "    return function(number_to_add)\n",
    "\n",
    "function_call(plus_one)\n"
   ]
  },
  {
   "cell_type": "markdown",
   "metadata": {},
   "source": [
    "## Decorator"
   ]
  },
  {
   "cell_type": "code",
   "execution_count": 65,
   "metadata": {},
   "outputs": [
    {
     "data": {
      "text/plain": [
       "'HELLO THERE YOU'"
      ]
     },
     "execution_count": 65,
     "metadata": {},
     "output_type": "execute_result"
    }
   ],
   "source": [
    "def uppercase_decorator(function):\n",
    "    def wrapper():\n",
    "        func = function()\n",
    "        make_uppercase = func.upper()\n",
    "        return make_uppercase\n",
    "\n",
    "    return wrapper\n",
    "\n",
    "@uppercase_decorator\n",
    "def say_hi():\n",
    "    return 'hello there you'\n",
    "\n",
    "\n",
    "say_hi()\n"
   ]
  },
  {
   "cell_type": "code",
   "execution_count": 68,
   "metadata": {},
   "outputs": [
    {
     "ename": "TypeError",
     "evalue": "f1() got an unexpected keyword argument 'b'",
     "output_type": "error",
     "traceback": [
      "\u001b[1;31m---------------------------------------------------------------------------\u001b[0m",
      "\u001b[1;31mTypeError\u001b[0m                                 Traceback (most recent call last)",
      "\u001b[1;32mc:\\GitRoot\\pyCourseScripts\\JupyterNotebooks\\TeachingPy.ipynb Cell 31\u001b[0m in \u001b[0;36m<cell line: 4>\u001b[1;34m()\u001b[0m\n\u001b[0;32m      <a href='vscode-notebook-cell:/c%3A/GitRoot/pyCourseScripts/JupyterNotebooks/TeachingPy.ipynb#X44sZmlsZQ%3D%3D?line=0'>1</a>\u001b[0m \u001b[39mdef\u001b[39;00m \u001b[39mf1\u001b[39m(\u001b[39m*\u001b[39margs):\n\u001b[0;32m      <a href='vscode-notebook-cell:/c%3A/GitRoot/pyCourseScripts/JupyterNotebooks/TeachingPy.ipynb#X44sZmlsZQ%3D%3D?line=1'>2</a>\u001b[0m   \u001b[39mprint\u001b[39m(args)\n\u001b[1;32m----> <a href='vscode-notebook-cell:/c%3A/GitRoot/pyCourseScripts/JupyterNotebooks/TeachingPy.ipynb#X44sZmlsZQ%3D%3D?line=3'>4</a>\u001b[0m f1(\u001b[39m1\u001b[39;49m,\u001b[39m2\u001b[39;49m,\u001b[39m3\u001b[39;49m,b\u001b[39m=\u001b[39;49m\u001b[39m9\u001b[39;49m)\n",
      "\u001b[1;31mTypeError\u001b[0m: f1() got an unexpected keyword argument 'b'"
     ]
    }
   ],
   "source": [
    "def f1(*args):\n",
    "  print(args)\n",
    "\n",
    "f1(1,2,3,b=9)  "
   ]
  },
  {
   "cell_type": "code",
   "execution_count": 70,
   "metadata": {},
   "outputs": [
    {
     "name": "stdout",
     "output_type": "stream",
     "text": [
      "(1, 2, 3) {'b': 9}\n"
     ]
    }
   ],
   "source": [
    "def f1(*args, **kwargs):\n",
    "  print(args,kwargs)\n",
    "\n",
    "f1(1,2,3,b=9)  "
   ]
  },
  {
   "cell_type": "markdown",
   "metadata": {},
   "source": [
    "## Decorator example"
   ]
  },
  {
   "cell_type": "code",
   "execution_count": 78,
   "metadata": {},
   "outputs": [
    {
     "name": "stdout",
     "output_type": "stream",
     "text": [
      "Cannot divide by 0\n"
     ]
    }
   ],
   "source": [
    "def check(func): # Decorator\n",
    "  def inside(x,y):\n",
    "    if y == 0:\n",
    "      print('Cannot divide by 0')\n",
    "      return\n",
    "    func(x,y)\n",
    "  return(inside)\n",
    "\n",
    "@check\n",
    "def div1(a,b):\n",
    "  print(a/b)\n",
    "\n",
    "div1(34,0)\n"
   ]
  },
  {
   "cell_type": "markdown",
   "metadata": {},
   "source": [
    "## Decorators"
   ]
  },
  {
   "cell_type": "code",
   "execution_count": 88,
   "metadata": {},
   "outputs": [
    {
     "name": "stdout",
     "output_type": "stream",
     "text": [
      "b\n"
     ]
    }
   ],
   "source": [
    "def turn_into_another_func(func):\n",
    "\n",
    "  return(bfunc)\n",
    "\n",
    "\n",
    "@turn_into_another_func # this does the same thing as the commented line below\n",
    "def afunc():\n",
    "  print('a')\n",
    "\n",
    "def bfunc():\n",
    "  print('b')\n",
    "\n",
    "#afunc = turn_into_another_func(bfunc)  # this replaces the object afunc with  turn_into_another_func passing the bfunc as the argument\n",
    "\n",
    "afunc()\n",
    "\n",
    "\n",
    "\n"
   ]
  },
  {
   "cell_type": "markdown",
   "metadata": {},
   "source": [
    "## Decorator\n",
    "- the camelcase function was not able to accept a list of values\n",
    "- the decorator assists by allowing a list of values to be used by the camelcase function "
   ]
  },
  {
   "cell_type": "code",
   "execution_count": 104,
   "metadata": {},
   "outputs": [
    {
     "data": {
      "text/plain": [
       "['BrentDenny', 'DianneDenny']"
      ]
     },
     "execution_count": 104,
     "metadata": {},
     "output_type": "execute_result"
    }
   ],
   "source": [
    "from functools import wraps\n",
    "\n",
    "def mapper(func):\n",
    "  @wraps(func)\n",
    "  def inner(listofval):\n",
    "    return [func(value) for value in listofval]\n",
    "  return inner  \n",
    "\n",
    "\n",
    "@mapper\n",
    "def camelcase(s):\n",
    "  '''This is the camelcase doc string'''\n",
    "  return ''.join([word.capitalize() for word in s.split('_')])\n",
    "\n",
    "name = [\n",
    "  'brent_denny',\n",
    "  'dianne_denny'\n",
    "]\n",
    "camelcase(name)  \n"
   ]
  },
  {
   "cell_type": "code",
   "execution_count": null,
   "metadata": {},
   "outputs": [],
   "source": []
  },
  {
   "cell_type": "code",
   "execution_count": null,
   "metadata": {},
   "outputs": [],
   "source": []
  }
 ],
 "metadata": {
  "kernelspec": {
   "display_name": "Python 3.10.6 64-bit",
   "language": "python",
   "name": "python3"
  },
  "language_info": {
   "codemirror_mode": {
    "name": "ipython",
    "version": 3
   },
   "file_extension": ".py",
   "mimetype": "text/x-python",
   "name": "python",
   "nbconvert_exporter": "python",
   "pygments_lexer": "ipython3",
   "version": "3.10.6"
  },
  "orig_nbformat": 4,
  "vscode": {
   "interpreter": {
    "hash": "917c2fcfba35f78a8c6240e40e0068b9d5bef1e4004d7bc74bf2323334ee950e"
   }
  }
 },
 "nbformat": 4,
 "nbformat_minor": 2
}
