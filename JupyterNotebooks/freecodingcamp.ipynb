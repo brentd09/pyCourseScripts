{
 "cells": [
  {
   "cell_type": "code",
   "execution_count": null,
   "metadata": {},
   "outputs": [],
   "source": [
    "myset = set('hello')\n",
    "print('\\n'.join(sorted({i for i in dir(myset) if i[0] != '_'})))"
   ]
  },
  {
   "cell_type": "code",
   "execution_count": null,
   "metadata": {},
   "outputs": [],
   "source": [
    "import bdobjtools\n",
    "a = set()\n",
    "bdobjtools.get_member(a)"
   ]
  },
  {
   "cell_type": "code",
   "execution_count": 11,
   "metadata": {},
   "outputs": [
    {
     "data": {
      "text/plain": [
       "[('__annotations__', {'name': str, 'age': int}),\n",
       " ('__class__', __main__.bob1),\n",
       " ('__delattr__',\n",
       "  <method-wrapper '__delattr__' of bob1 object at 0x000001CB8A7BA290>),\n",
       " ('__dict__', {'name': 'harry bloggs', 'age': 34}),\n",
       " ('__dir__', <function bob1.__dir__()>),\n",
       " ('__doc__', '\\n      This is a class doc\\n    '),\n",
       " ('__eq__', <method-wrapper '__eq__' of bob1 object at 0x000001CB8A7BA290>),\n",
       " ('__format__', <function bob1.__format__(format_spec, /)>),\n",
       " ('__ge__', <method-wrapper '__ge__' of bob1 object at 0x000001CB8A7BA290>),\n",
       " ('__getattribute__',\n",
       "  <method-wrapper '__getattribute__' of bob1 object at 0x000001CB8A7BA290>),\n",
       " ('__getstate__', <function bob1.__getstate__()>),\n",
       " ('__gt__', <method-wrapper '__gt__' of bob1 object at 0x000001CB8A7BA290>),\n",
       " ('__hash__',\n",
       "  <method-wrapper '__hash__' of bob1 object at 0x000001CB8A7BA290>),\n",
       " ('__init__',\n",
       "  <bound method bob1.__init__ of <__main__.bob1 object at 0x000001CB8A7BA290>>),\n",
       " ('__init_subclass__', <function bob1.__init_subclass__>),\n",
       " ('__le__', <method-wrapper '__le__' of bob1 object at 0x000001CB8A7BA290>),\n",
       " ('__lt__', <method-wrapper '__lt__' of bob1 object at 0x000001CB8A7BA290>),\n",
       " ('__module__', '__main__'),\n",
       " ('__ne__', <method-wrapper '__ne__' of bob1 object at 0x000001CB8A7BA290>),\n",
       " ('__new__', <function object.__new__(*args, **kwargs)>),\n",
       " ('__reduce__', <function bob1.__reduce__()>),\n",
       " ('__reduce_ex__', <function bob1.__reduce_ex__(protocol, /)>),\n",
       " ('__repr__',\n",
       "  <method-wrapper '__repr__' of bob1 object at 0x000001CB8A7BA290>),\n",
       " ('__setattr__',\n",
       "  <method-wrapper '__setattr__' of bob1 object at 0x000001CB8A7BA290>),\n",
       " ('__sizeof__', <function bob1.__sizeof__()>),\n",
       " ('__str__', <method-wrapper '__str__' of bob1 object at 0x000001CB8A7BA290>),\n",
       " ('__subclasshook__', <function bob1.__subclasshook__>),\n",
       " ('__weakref__', None),\n",
       " ('addlastname',\n",
       "  <bound method bob1.addlastname of <__main__.bob1 object at 0x000001CB8A7BA290>>),\n",
       " ('age', 34),\n",
       " ('name', 'harry bloggs')]"
      ]
     },
     "execution_count": 11,
     "metadata": {},
     "output_type": "execute_result"
    }
   ],
   "source": [
    "import bdobjtools, inspect, itertools\n",
    "  \n",
    "class bob1:\n",
    "    '''\n",
    "      This is a class doc\n",
    "    '''\n",
    "    name:str \n",
    "    age:int \n",
    "\n",
    "    def __init__(self):\n",
    "        self.name:str = 'harry'\n",
    "        self.age:int = 34\n",
    "    def addlastname(self, lastname) -> str:\n",
    "        self.name += ' ' + lastname\n",
    "\n",
    "\n",
    "b = bob1()      \n",
    "b.addlastname('bloggs')\n",
    "inspect.getmembers(b)"
   ]
  },
  {
   "cell_type": "code",
   "execution_count": 21,
   "metadata": {},
   "outputs": [
    {
     "data": {
      "text/plain": [
       "'baad'"
      ]
     },
     "execution_count": 21,
     "metadata": {},
     "output_type": "execute_result"
    }
   ],
   "source": [
    "import re\n",
    "\n",
    "pat = re.compile(r'^bo')\n",
    "'yeah' if (pat.search('dob')) else 'baad'"
   ]
  }
 ],
 "metadata": {
  "kernelspec": {
   "display_name": "Python 3",
   "language": "python",
   "name": "python3"
  },
  "language_info": {
   "codemirror_mode": {
    "name": "ipython",
    "version": 3
   },
   "file_extension": ".py",
   "mimetype": "text/x-python",
   "name": "python",
   "nbconvert_exporter": "python",
   "pygments_lexer": "ipython3",
   "version": "3.11.1 (tags/v3.11.1:a7a450f, Dec  6 2022, 19:58:39) [MSC v.1934 64 bit (AMD64)]"
  },
  "orig_nbformat": 4,
  "vscode": {
   "interpreter": {
    "hash": "cdbd3dac15204b55d1cc6fc9f1a220b27628f60e0153e679aa89e6a967ccd24f"
   }
  }
 },
 "nbformat": 4,
 "nbformat_minor": 2
}
