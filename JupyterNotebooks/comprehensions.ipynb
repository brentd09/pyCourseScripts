{
 "cells": [
  {
   "cell_type": "markdown",
   "metadata": {},
   "source": [
    "## The next two give the same result, however the first is more Pythonic"
   ]
  },
  {
   "cell_type": "code",
   "execution_count": 1,
   "metadata": {},
   "outputs": [
    {
     "data": {
      "text/plain": [
       "[0.2, 52, 13, 12, 1.0, 56, 17, 24, 1.8, 60, 21, 36, 2.6, 64, 25, 48]"
      ]
     },
     "execution_count": 1,
     "metadata": {},
     "output_type": "execute_result"
    }
   ],
   "source": [
    "l1 = [1,2,3,4,5,6,7,8,9,10,11,12,13,14,15,16]\n",
    "\n",
    "[x * 3 if x%4 == 0 else x / 5 if x%4 == 1 else x + 50 if x%4 == 2 else x + 10 for x in l1]"
   ]
  },
  {
   "cell_type": "code",
   "execution_count": 7,
   "metadata": {},
   "outputs": [
    {
     "name": "stdout",
     "output_type": "stream",
     "text": [
      "[0.2, 52, 13, 12, 1.0, 56, 17, 24, 1.8, 60, 21, 36, 2.6, 64, 25, 48]\n"
     ]
    }
   ],
   "source": [
    "l1 = [1,2,3,4,5,6,7,8,9,10,11,12,13,14,15,16]\n",
    "\n",
    "newl1 = []\n",
    "for x in l1:\n",
    "  if x%4 == 0:\n",
    "    y = x * 3\n",
    "  elif x%4 == 1:\n",
    "    y = x / 5\n",
    "  elif x%4 == 2:\n",
    "    y = x + 50\n",
    "  else: \n",
    "    y = x + 10\n",
    "  newl1.append(y)\n",
    "print(newl1)"
   ]
  },
  {
   "cell_type": "markdown",
   "metadata": {},
   "source": [
    "### Gets the Ex Tax price from a retail price inc tax"
   ]
  },
  {
   "cell_type": "code",
   "execution_count": 29,
   "metadata": {},
   "outputs": [
    {
     "data": {
      "text/plain": [
       "['$100.0', '$2.04', '$90.91', '$181.82', '$4.15', '$6.16']"
      ]
     },
     "execution_count": 29,
     "metadata": {},
     "output_type": "execute_result"
    }
   ],
   "source": [
    "def get_price_without_tax(txn):\n",
    "    return round(txn * TAX_RATE / (TAX_RATE + 1),2)\n",
    "\n",
    "def adddollarsign(val):\n",
    "  return '$' + str(val)\n",
    "\n",
    "taxinc = [110,2.24, 100, 200, 4.56, 6.78]\n",
    "TAX_RATE = 10\n",
    "[adddollarsign(x) for x in  [get_price_without_tax(i) for i in taxinc]]\n"
   ]
  },
  {
   "cell_type": "markdown",
   "metadata": {},
   "source": [
    "### Getting the even and odd numbers from a single list"
   ]
  },
  {
   "cell_type": "code",
   "execution_count": 32,
   "metadata": {},
   "outputs": [
    {
     "name": "stdout",
     "output_type": "stream",
     "text": [
      "[2, 4, 6, 8, 10, 12, 14, 16, 18, 20, 22, 24, 26, 28, 30, 32, 34, 36, 38, 40, 42, 44, 46, 48, 50]\n",
      "[3, 5, 7, 9, 11, 13, 15, 17, 19, 21, 23, 25, 27, 29, 31, 33, 35, 37, 39, 41, 43, 45, 47, 49, 51]\n"
     ]
    }
   ],
   "source": [
    "l1 = list(range(52))\n",
    "\n",
    "even = [i for i in l1 if i%2 == 0 and i > 1]\n",
    "odd  = [i for i in l1 if i%2 == 1 and i > 1]\n",
    "\n",
    "print(even)\n",
    "print(odd)"
   ]
  },
  {
   "cell_type": "code",
   "execution_count": null,
   "metadata": {},
   "outputs": [],
   "source": []
  },
  {
   "cell_type": "code",
   "execution_count": null,
   "metadata": {},
   "outputs": [],
   "source": []
  },
  {
   "cell_type": "code",
   "execution_count": null,
   "metadata": {},
   "outputs": [],
   "source": []
  },
  {
   "cell_type": "code",
   "execution_count": null,
   "metadata": {},
   "outputs": [],
   "source": []
  },
  {
   "cell_type": "code",
   "execution_count": null,
   "metadata": {},
   "outputs": [],
   "source": []
  }
 ],
 "metadata": {
  "kernelspec": {
   "display_name": "Python 3.10.6 64-bit",
   "language": "python",
   "name": "python3"
  },
  "language_info": {
   "codemirror_mode": {
    "name": "ipython",
    "version": 3
   },
   "file_extension": ".py",
   "mimetype": "text/x-python",
   "name": "python",
   "nbconvert_exporter": "python",
   "pygments_lexer": "ipython3",
   "version": "3.10.6"
  },
  "orig_nbformat": 4,
  "vscode": {
   "interpreter": {
    "hash": "917c2fcfba35f78a8c6240e40e0068b9d5bef1e4004d7bc74bf2323334ee950e"
   }
  }
 },
 "nbformat": 4,
 "nbformat_minor": 2
}
