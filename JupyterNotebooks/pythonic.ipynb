{
 "cells": [
  {
   "cell_type": "code",
   "execution_count": null,
   "metadata": {},
   "outputs": [],
   "source": [
    "import this"
   ]
  },
  {
   "cell_type": "code",
   "execution_count": null,
   "metadata": {},
   "outputs": [],
   "source": []
  },
  {
   "cell_type": "markdown",
   "metadata": {},
   "source": [
    "```\n",
    "The Zen of Python, by Tim Peters\n",
    "\n",
    "Beautiful is better than ugly.\n",
    "Explicit is better than implicit.\n",
    "Simple is better than complex.\n",
    "Complex is better than complicated.\n",
    "Flat is better than nested.\n",
    "Sparse is better than dense.\n",
    "Readability counts.\n",
    "Special cases aren't special enough to break the rules.\n",
    "Although practicality beats purity.\n",
    "  Errors should never pass silently.\n",
    "  Unless explicitly silenced.\n",
    "In the face of ambiguity, refuse the temptation to guess.\n",
    "There should be one-- and preferably only one --obvious way to do it.\n",
    "Although that way may not be obvious at first unless you're Dutch.\n",
    "Now is better than never.\n",
    "  Although never is often better than *right* now.\n",
    "If the implementation is hard to explain, it's a bad idea.\n",
    "If the implementation is easy to explain, it may be a good idea.\n",
    "Namespaces are one honking great idea -- let's do more of those!\n",
    "```"
   ]
  },
  {
   "cell_type": "code",
   "execution_count": null,
   "metadata": {},
   "outputs": [],
   "source": [
    "# uses too much memory\n",
    "for i in [0, 1, 2, 3, 4, 5]:\n",
    "  print(i ** 2)\n",
    "\n",
    "# range produces one value at a time in the range, large ranges benefit from this\n",
    "for i in range(6):\n",
    "  print(i ** 2)"
   ]
  },
  {
   "cell_type": "code",
   "execution_count": null,
   "metadata": {},
   "outputs": [],
   "source": [
    "colors = ['red','green','blue','yellow']\n",
    "\n",
    "# Ugly way\n",
    "for i in range(len(colors)):\n",
    "  print(colors[i])\n",
    "\n",
    "print('----')\n",
    "\n",
    "# Beautiful way\n",
    "for color in colors:\n",
    "  print(color)\n"
   ]
  },
  {
   "cell_type": "code",
   "execution_count": null,
   "metadata": {},
   "outputs": [],
   "source": [
    "colors = ['red','green','blue','yellow']\n",
    "\n",
    "# Ugly way\n",
    "for i in range(len(colors)-1, -1, -1):\n",
    "  print(colors[i])\n",
    "\n",
    "print('----')\n",
    "\n",
    "# Beautiful way\n",
    "for color in reversed(colors):\n",
    "  print(color)"
   ]
  },
  {
   "cell_type": "code",
   "execution_count": null,
   "metadata": {},
   "outputs": [],
   "source": [
    "colors = ['red','green','blue','yellow']\n",
    "\n",
    "# Ugly way\n",
    "for i in range(len(colors)):\n",
    "  print(i, '--->', colors[i])\n",
    "\n",
    "print('----')\n",
    "\n",
    "# Beautiful way\n",
    "for i, color in enumerate(colors):\n",
    "  print(i, '--->', color)"
   ]
  },
  {
   "cell_type": "code",
   "execution_count": 2,
   "metadata": {},
   "outputs": [
    {
     "name": "stdout",
     "output_type": "stream",
     "text": [
      "raymond ---> red\n",
      "rachel ---> green\n",
      "matthew ---> blue\n",
      "----\n",
      "raymond ---> red\n",
      "rachel ---> green\n",
      "matthew ---> blue\n"
     ]
    }
   ],
   "source": [
    "names = ['raymond','rachel','matthew']\n",
    "colors = ['red','green','blue','yellow']\n",
    "\n",
    "# Ugly way\n",
    "n = min(len(names), len(colors))\n",
    "for i in range(n):\n",
    "  print(names[i], '--->', colors[i])\n",
    "\n",
    "print('----')\n",
    "\n",
    "# Good way\n",
    "for name, color in zip(names, colors):\n",
    "  print(name, '--->', color)\n"
   ]
  },
  {
   "cell_type": "code",
   "execution_count": null,
   "metadata": {},
   "outputs": [],
   "source": [
    "d = {'matthew':'blue','rachel':'green','raymond':'red'}\n",
    "\n",
    "for k in d:\n",
    "  print(k)"
   ]
  },
  {
   "cell_type": "code",
   "execution_count": null,
   "metadata": {},
   "outputs": [],
   "source": [
    "d = {'matthew':'blue','rachel':'green','raymond':'red'}\n",
    "\n",
    "rem1 = list(\"\")\n",
    "for k in d.keys():\n",
    "  if k.startswith('r'):\n",
    "    rem1 = rem1.append(k)\n",
    "print (rem1)   "
   ]
  },
  {
   "cell_type": "code",
   "execution_count": null,
   "metadata": {},
   "outputs": [],
   "source": [
    "d = {'matthew':'blue','rachel':'green','raymond':'red'}\n",
    "\n",
    "for k in d:\n",
    "  print(k, '-->', d[k])"
   ]
  },
  {
   "cell_type": "code",
   "execution_count": null,
   "metadata": {},
   "outputs": [],
   "source": [
    "d = {'matthew':'blue','rachel':'green','raymond':'red'}\n",
    "print(d.items())\n",
    "#for k, v in d.items():\n",
    "#  print(k, '-->', v)"
   ]
  },
  {
   "cell_type": "code",
   "execution_count": 4,
   "metadata": {},
   "outputs": [
    {
     "name": "stdout",
     "output_type": "stream",
     "text": [
      "<zip object at 0x0000025487BC1140>\n"
     ]
    }
   ],
   "source": [
    "names  = ['matthew','rachel','raymond']\n",
    "colors = ['blue','green','red']\n",
    "d = dict(zip(names, colors))\n",
    "print(d)"
   ]
  },
  {
   "cell_type": "code",
   "execution_count": null,
   "metadata": {},
   "outputs": [],
   "source": [
    "from collections import defaultdict\n",
    " \n",
    "def defaultval():\n",
    "  return 'KeyHasNoValue'\n",
    "\n",
    "d = defaultdict(defaultval)\n",
    "d['a'] = 1\n",
    "d['b'] = 2\n",
    "\n",
    "print(d['a']) \n",
    "print(d['b'])\n",
    "print(d['c'])"
   ]
  },
  {
   "cell_type": "markdown",
   "metadata": {},
   "source": [
    "## Unpacking tuples"
   ]
  },
  {
   "cell_type": "code",
   "execution_count": null,
   "metadata": {},
   "outputs": [],
   "source": [
    "# the bad way to do this\n",
    "p= 'raymond', 'hettinger', 0x30, 'python@example.com'\n",
    "\n",
    "fname = p[0]\n",
    "lname = p[1]\n",
    "age   = p[2]\n",
    "email = p[3]\n",
    "print(fname, lname, age, email)"
   ]
  },
  {
   "cell_type": "code",
   "execution_count": null,
   "metadata": {},
   "outputs": [],
   "source": [
    "# the better way to do this\n",
    "p= 'raymond', 'hettinger', 0x30, 'python@example.com'\n",
    "\n",
    "fname, lname, age, email = p\n",
    "print(fname, lname, age, email)"
   ]
  },
  {
   "cell_type": "markdown",
   "metadata": {},
   "source": [
    "#### unpacking with a fibonacci example"
   ]
  },
  {
   "cell_type": "code",
   "execution_count": null,
   "metadata": {},
   "outputs": [],
   "source": [
    "# fibonacci - the wrong way\n",
    "def fib(n):\n",
    "  x = 0\n",
    "  y = 1\n",
    "  for i in range(n):\n",
    "    print(x)\n",
    "    t = y\n",
    "    y = x + y\n",
    "    x = t\n",
    "fib(25)    "
   ]
  },
  {
   "cell_type": "code",
   "execution_count": null,
   "metadata": {},
   "outputs": [],
   "source": [
    "# fibonacci - the better way\n",
    "def fib(n):\n",
    "  x, y = 0, 1\n",
    "  for i in range(n):\n",
    "    print(x)\n",
    "    x, y = y, x + y\n",
    "fib(25)"
   ]
  },
  {
   "cell_type": "markdown",
   "metadata": {},
   "source": [
    "## Decorators"
   ]
  },
  {
   "cell_type": "code",
   "execution_count": null,
   "metadata": {},
   "outputs": [],
   "source": [
    "import requests\n",
    "\n",
    "def web_lookup(url, saved={}):\n",
    "  if url in saved:\n",
    "    return saved[url]\n",
    "  page = requests.get(url)\n",
    "  saved[url] = page\n",
    "  return page\n",
    "\n",
    "web_lookup('http://www.testingmcafeesites.com/testcat_ac.html')\n",
    "  "
   ]
  },
  {
   "cell_type": "code",
   "execution_count": null,
   "metadata": {},
   "outputs": [],
   "source": [
    "\n",
    "from functools import cache\n",
    "import requests\n",
    "\n",
    "@cache\n",
    "def web_lookup(url, saved={}):\n",
    "  return requests.get(url)\n",
    "\n",
    "web_lookup('http://www.testingmcafeesites.com/testcat_ac.html')"
   ]
  },
  {
   "cell_type": "code",
   "execution_count": null,
   "metadata": {},
   "outputs": [],
   "source": [
    "import random\n",
    "\n",
    "int(50 + random.random() * 200)"
   ]
  },
  {
   "cell_type": "code",
   "execution_count": null,
   "metadata": {},
   "outputs": [],
   "source": [
    "from random import uniform\n",
    "\n",
    "\n",
    "int(uniform (50,250))"
   ]
  },
  {
   "cell_type": "code",
   "execution_count": null,
   "metadata": {},
   "outputs": [],
   "source": [
    "list(range(50, 250, 3))"
   ]
  },
  {
   "cell_type": "code",
   "execution_count": null,
   "metadata": {},
   "outputs": [],
   "source": [
    "# SLOW\n",
    "def fib(n):\n",
    "  if n <= 1:\n",
    "    return(n)\n",
    "  return(fib(n-1) + fib(n-2))\n",
    "\n",
    "def main():\n",
    "  for i in range(400):\n",
    "    print(i, fib(i))\n",
    "  print('done')       \n",
    "\n",
    "if __name__ == '__main__':\n",
    "  main()"
   ]
  },
  {
   "cell_type": "code",
   "execution_count": null,
   "metadata": {},
   "outputs": [],
   "source": [
    "# FAST\n",
    "from functools import cache\n",
    "\n",
    "@cache\n",
    "def fib(n):\n",
    "  if n <= 1:\n",
    "    return(n)\n",
    "  return(fib(n-1) + fib(n-2))\n",
    "\n",
    "def main():\n",
    "  for i in range(400):\n",
    "    print(i, fib(i))\n",
    "  print('done')       \n",
    "\n",
    "if __name__ == '__main__':\n",
    "  main()"
   ]
  },
  {
   "cell_type": "markdown",
   "metadata": {},
   "source": [
    "### these next to are equivilant in their outcomes"
   ]
  },
  {
   "cell_type": "code",
   "execution_count": null,
   "metadata": {},
   "outputs": [],
   "source": [
    "max = 99999\n",
    "l1 = list(range(max))\n",
    "\n",
    "l1 = [x * 2 if x%4 == 0 else x + 20 if x%4 == 1 else x + 40 if x%4 == 2 else x / 2 for x in l1]\n",
    "print(l1)"
   ]
  },
  {
   "cell_type": "code",
   "execution_count": null,
   "metadata": {},
   "outputs": [],
   "source": [
    "l1 = list(range(max))\n",
    "\n",
    "newl1 = []\n",
    "for x in l1:\n",
    "  if x%4 == 0:\n",
    "    b = x * 2\n",
    "  elif x%4 == 1:\n",
    "    b = x + 20\n",
    "  elif x%4 == 2:\n",
    "    b = x + 40\n",
    "  else:\n",
    "    b = x / 2  \n",
    "  newl1.append(b)\n",
    "l1 = newl1  \n",
    "print(l1)  "
   ]
  }
 ],
 "metadata": {
  "kernelspec": {
   "display_name": "Python 3.10.6 64-bit",
   "language": "python",
   "name": "python3"
  },
  "language_info": {
   "codemirror_mode": {
    "name": "ipython",
    "version": 3
   },
   "file_extension": ".py",
   "mimetype": "text/x-python",
   "name": "python",
   "nbconvert_exporter": "python",
   "pygments_lexer": "ipython3",
   "version": "3.10.6"
  },
  "orig_nbformat": 4,
  "vscode": {
   "interpreter": {
    "hash": "917c2fcfba35f78a8c6240e40e0068b9d5bef1e4004d7bc74bf2323334ee950e"
   }
  }
 },
 "nbformat": 4,
 "nbformat_minor": 2
}
