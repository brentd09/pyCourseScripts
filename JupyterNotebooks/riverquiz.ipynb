{
 "cells": [
  {
   "cell_type": "markdown",
   "metadata": {},
   "source": [
    "## River Quiz\n",
    "#### 3 wilderbeast and 3 lions need to cross a crocodile infested river to escape the approaching fire\n",
    "- There is a raft that can take a maximum of two animals\n",
    "- All of the animals are on the east bank of the river where a forrest fire is approaching\n",
    "- When the raft is crossing the river an animal is needed to steer the raft, both wilderbeast and lions know how to steer the raft\n",
    "- If at any time the lions outnumber the wilderbeast their natural instinct kicks in and the quiz is over **(BADLY)**\n",
    "- They need to find the fastest way to transport all the animals across to the west side\n",
    "- The quiz is only a success if all six animals make it to the west bank without being eaten"
   ]
  },
  {
   "cell_type": "code",
   "execution_count": null,
   "metadata": {},
   "outputs": [],
   "source": [
    "eastbank = {'w':3,'l':3,'r':True}\n",
    "westbank = {'w':0,'l':0,'r':False}\n",
    "crossopt = ({'w':1,'l':0},{'w':0,'l':1},{'w':2,'l':0},{'w':0,'l':2},{'w':1,'l':1})\n",
    "while westbank['w'] != 3 and westbank['l'] != 3:\n",
    "  if eastbank['r']:\n",
    "    pass\n",
    "  else:\n",
    "    pass"
   ]
  },
  {
   "cell_type": "code",
   "execution_count": null,
   "metadata": {},
   "outputs": [],
   "source": []
  },
  {
   "cell_type": "code",
   "execution_count": null,
   "metadata": {},
   "outputs": [],
   "source": []
  },
  {
   "cell_type": "code",
   "execution_count": null,
   "metadata": {},
   "outputs": [],
   "source": []
  },
  {
   "cell_type": "code",
   "execution_count": null,
   "metadata": {},
   "outputs": [],
   "source": []
  },
  {
   "cell_type": "code",
   "execution_count": null,
   "metadata": {},
   "outputs": [],
   "source": []
  },
  {
   "cell_type": "code",
   "execution_count": null,
   "metadata": {},
   "outputs": [],
   "source": []
  }
 ],
 "metadata": {
  "language_info": {
   "name": "python"
  },
  "orig_nbformat": 4
 },
 "nbformat": 4,
 "nbformat_minor": 2
}
