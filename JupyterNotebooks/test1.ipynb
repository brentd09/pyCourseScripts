{
 "cells": [
  {
   "cell_type": "code",
   "execution_count": 1,
   "metadata": {},
   "outputs": [
    {
     "data": {
      "text/plain": [
       "'THIS IS A STRING'"
      ]
     },
     "execution_count": 1,
     "metadata": {},
     "output_type": "execute_result"
    }
   ],
   "source": [
    "x = 'This is a string'\n",
    "x.upper()"
   ]
  },
  {
   "cell_type": "code",
   "execution_count": 10,
   "metadata": {},
   "outputs": [
    {
     "name": "stdout",
     "output_type": "stream",
     "text": [
      "['a', 'b', 'c', 'd', 'e', 'f', 'g', 'h', 'i']\n"
     ]
    }
   ],
   "source": [
    "l1 = ['a','b','c','d','e','f','g','h'] # List - Mutable, can contain duplicates, is ordered\n",
    "l1.append('i')\n",
    "print(l1)"
   ]
  },
  {
   "cell_type": "code",
   "execution_count": 20,
   "metadata": {},
   "outputs": [
    {
     "name": "stdout",
     "output_type": "stream",
     "text": [
      "{'e', 'f', 'g', 'i', 'h', 'b', 'c', 'd', 'a'}\n",
      "{'e', 'f', 'g', 'i', 'h', 'c', 'd', 'a'}\n"
     ]
    }
   ],
   "source": [
    "s1 = {'a','b','c','d','e','f','g','h'} # Set - Mutable, cannot contain duplicates, is not ordered\n",
    "s1.add('i') \n",
    "print(s1)\n",
    "s1.add('a')\n",
    "s1.remove('b')\n",
    "print(s1)"
   ]
  },
  {
   "cell_type": "code",
   "execution_count": 25,
   "metadata": {},
   "outputs": [
    {
     "name": "stdout",
     "output_type": "stream",
     "text": [
      "('a', 'b', 'c', 'd', 'e', 'f', 'g', 'h', 'a')\n",
      "('a', 'b', 'c', 'd', 'e', 'f', 'g', 'h', 'a', 'i')\n"
     ]
    }
   ],
   "source": [
    "t1 = ('a','b','c','d','e','f','g','h','a') #Tuple - Immutable, can contain duplicates, is ordered\n",
    "print(t1)\n",
    "t1 = t1 + ('i',)\n",
    "print(t1)"
   ]
  },
  {
   "cell_type": "code",
   "execution_count": 26,
   "metadata": {},
   "outputs": [
    {
     "data": {
      "text/plain": [
       "'0x1e9b8530bb0'"
      ]
     },
     "execution_count": 26,
     "metadata": {},
     "output_type": "execute_result"
    }
   ],
   "source": [
    "firstnum = 257\n",
    "hex(id(firstnum))"
   ]
  },
  {
   "cell_type": "code",
   "execution_count": 27,
   "metadata": {},
   "outputs": [
    {
     "data": {
      "text/plain": [
       "'0x1e9b8531030'"
      ]
     },
     "execution_count": 27,
     "metadata": {},
     "output_type": "execute_result"
    }
   ],
   "source": [
    "firstnum = 257\n",
    "hex(id(firstnum))"
   ]
  },
  {
   "cell_type": "code",
   "execution_count": 19,
   "metadata": {},
   "outputs": [
    {
     "name": "stdout",
     "output_type": "stream",
     "text": [
      "{'Department': 'Training', 'YearStarted': 2012, 'Country': 'Australia'}\n"
     ]
    }
   ],
   "source": [
    "d1 = {'name':'Brent','Department':'Training','YearStarted':2012} #Dictionary - Mutable, can contain duplicate values, cannot contain duplicate keys\n",
    "d1['Country'] = 'Australia'\n",
    "d1.pop('name')\n",
    "print(d1)"
   ]
  },
  {
   "cell_type": "code",
   "execution_count": 34,
   "metadata": {},
   "outputs": [
    {
     "name": "stdout",
     "output_type": "stream",
     "text": [
      "256 2103263961296 2103263961296\n",
      "257 2103331459088 2103331461648\n"
     ]
    }
   ],
   "source": [
    "idx = list(range(300))\n",
    "num1 = list(range(300))\n",
    "num2 = list(range(300))\n",
    "for x in idx:\n",
    "  a = num1[x]\n",
    "  b = num2[x]\n",
    "  if id(a) != id(b):\n",
    "    print(num1[x-1], id(olda), id(oldb))\n",
    "    print(num1[x], id(a), id(b))\n",
    "    break\n",
    "  olda = a\n",
    "  oldb = b\n"
   ]
  },
  {
   "cell_type": "code",
   "execution_count": 37,
   "metadata": {},
   "outputs": [
    {
     "ename": "TypeError",
     "evalue": "memoryview: a bytes-like object is required, not 'str'",
     "output_type": "error",
     "traceback": [
      "\u001b[1;31m---------------------------------------------------------------------------\u001b[0m",
      "\u001b[1;31mTypeError\u001b[0m                                 Traceback (most recent call last)",
      "\u001b[1;32mc:\\GitRoot\\pyCourseScripts\\JupyterNotebooks\\test1.ipynb Cell 9\u001b[0m in \u001b[0;36m<cell line: 3>\u001b[1;34m()\u001b[0m\n\u001b[0;32m      <a href='vscode-notebook-cell:/c%3A/GitRoot/pyCourseScripts/JupyterNotebooks/test1.ipynb#X11sZmlsZQ%3D%3D?line=0'>1</a>\u001b[0m z \u001b[39m=\u001b[39m [\u001b[39m1\u001b[39m,\u001b[39m2\u001b[39m,\u001b[39m3\u001b[39m,\u001b[39m4\u001b[39m,\u001b[39m5\u001b[39m]\n\u001b[0;32m      <a href='vscode-notebook-cell:/c%3A/GitRoot/pyCourseScripts/JupyterNotebooks/test1.ipynb#X11sZmlsZQ%3D%3D?line=1'>2</a>\u001b[0m \u001b[39mid\u001b[39m(z)\n\u001b[1;32m----> <a href='vscode-notebook-cell:/c%3A/GitRoot/pyCourseScripts/JupyterNotebooks/test1.ipynb#X11sZmlsZQ%3D%3D?line=2'>3</a>\u001b[0m \u001b[39mmemoryview\u001b[39;49m(\u001b[39mhex\u001b[39;49m(\u001b[39m2103321780352\u001b[39;49m))\n",
      "\u001b[1;31mTypeError\u001b[0m: memoryview: a bytes-like object is required, not 'str'"
     ]
    }
   ],
   "source": [
    "z = [1,2,3,4,5]\n",
    "id(z)\n",
    "memoryview(hex(2103321780352))"
   ]
  }
 ],
 "metadata": {
  "kernelspec": {
   "display_name": "Python 3.10.6 64-bit",
   "language": "python",
   "name": "python3"
  },
  "language_info": {
   "codemirror_mode": {
    "name": "ipython",
    "version": 3
   },
   "file_extension": ".py",
   "mimetype": "text/x-python",
   "name": "python",
   "nbconvert_exporter": "python",
   "pygments_lexer": "ipython3",
   "version": "3.10.6"
  },
  "orig_nbformat": 4,
  "vscode": {
   "interpreter": {
    "hash": "917c2fcfba35f78a8c6240e40e0068b9d5bef1e4004d7bc74bf2323334ee950e"
   }
  }
 },
 "nbformat": 4,
 "nbformat_minor": 2
}
