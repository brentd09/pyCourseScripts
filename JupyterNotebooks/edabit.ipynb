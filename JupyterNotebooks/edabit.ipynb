{
 "cells": [
  {
   "cell_type": "markdown",
   "metadata": {},
   "source": []
  },
  {
   "cell_type": "code",
   "execution_count": 8,
   "metadata": {},
   "outputs": [
    {
     "name": "stdout",
     "output_type": "stream",
     "text": [
      "0 --> 0.00\n",
      "400 --> 1.96\n",
      "1023 --> 5.00\n",
      "1026 --> 5.00\n"
     ]
    }
   ],
   "source": [
    "def DAC(num):\n",
    "  ratio = 5 / 1023\n",
    "  result = num * ratio if num <= 1023 else 5\n",
    "  return(\"{} --> {:.2f}\".format(num,result))\n",
    "\n",
    "print(DAC(0))\n",
    "print(DAC(400))\n",
    "print(DAC(1023))\n",
    "print(DAC(1026))"
   ]
  },
  {
   "cell_type": "markdown",
   "metadata": {},
   "source": [
    "80 >> 3 = floor(80/2^3) = floor(80/8) = 10\n",
    "-24 >> 2 = floor(-24/2^2) = floor(-24/4) = -6\n",
    "-5 >> 1 = floor(-5/2^1) = floor(-5/2) = -3"
   ]
  },
  {
   "cell_type": "markdown",
   "metadata": {},
   "source": [
    "shift_right(80, 3) ➞ 10\n",
    "shift_right(-24, 2) ➞ -6\n",
    "shift_right(-5, 1) ➞ -3\n",
    "shift_right(4666, 6) ➞ 72\n",
    "shift_right(3777, 6) ➞ 59\n",
    "shift_right(-512, 10) ➞ -1"
   ]
  },
  {
   "cell_type": "code",
   "execution_count": 27,
   "metadata": {},
   "outputs": [
    {
     "name": "stdout",
     "output_type": "stream",
     "text": [
      "10\n",
      "-6\n",
      "-3\n",
      "72\n",
      "59\n",
      "-1\n"
     ]
    }
   ],
   "source": [
    "from math import ceil, floor\n",
    "\n",
    "def shift_right(num,shift):\n",
    "  return(floor(num/2**shift))\n",
    "\n",
    "\n",
    "print(shift_right(80, 3) )\n",
    "print(shift_right(-24, 2))\n",
    "print(shift_right(-5, 1) )\n",
    "print(shift_right(4666, 6) )\n",
    "print(shift_right(3777, 6) )\n",
    "print(shift_right(-512, 10) )\n",
    "\n"
   ]
  },
  {
   "cell_type": "code",
   "execution_count": 14,
   "metadata": {},
   "outputs": [
    {
     "data": {
      "text/plain": [
       "13"
      ]
     },
     "execution_count": 14,
     "metadata": {},
     "output_type": "execute_result"
    }
   ],
   "source": [
    "from math import ceil\n",
    "\n",
    "\n",
    "num = 12.5\n",
    "ceil(num)"
   ]
  },
  {
   "cell_type": "code",
   "execution_count": 25,
   "metadata": {},
   "outputs": [
    {
     "data": {
      "text/plain": [
       "-2"
      ]
     },
     "execution_count": 25,
     "metadata": {},
     "output_type": "execute_result"
    }
   ],
   "source": [
    "num = -1.1\n",
    "floor(num)"
   ]
  },
  {
   "cell_type": "code",
   "execution_count": 42,
   "metadata": {},
   "outputs": [
    {
     "name": "stdout",
     "output_type": "stream",
     "text": [
      "50\n",
      "72\n",
      "98\n"
     ]
    }
   ],
   "source": [
    "from cmath import sqrt\n",
    "\n",
    "\n",
    "def diff(r):\n",
    "  d = 2 * r\n",
    "  x = sqrt((d**2)/2)\n",
    "  areadiff = abs((d**2) - (x**2))\n",
    "  print(round(areadiff))\n",
    "\n",
    "diff(5)\n",
    "diff(6)\n",
    "diff(7)\n"
   ]
  },
  {
   "cell_type": "code",
   "execution_count": 1,
   "metadata": {},
   "outputs": [
    {
     "ename": "SyntaxError",
     "evalue": "invalid syntax (3252898864.py, line 1)",
     "output_type": "error",
     "traceback": [
      "\u001b[1;36m  Input \u001b[1;32mIn [1]\u001b[1;36m\u001b[0m\n\u001b[1;33m    help reserved\u001b[0m\n\u001b[1;37m         ^\u001b[0m\n\u001b[1;31mSyntaxError\u001b[0m\u001b[1;31m:\u001b[0m invalid syntax\n"
     ]
    }
   ],
   "source": [
    "help reserved\n"
   ]
  },
  {
   "cell_type": "code",
   "execution_count": 26,
   "metadata": {},
   "outputs": [
    {
     "data": {
      "image/png": "[encoded data removed]",
      "text/plain": [
       "<Figure size 1440x432 with 1 Axes>"
      ]
     },
     "metadata": {
      "needs_background": "light"
     },
     "output_type": "display_data"
    }
   ],
   "source": [
    "import numpy as np\n",
    "import matplotlib.pyplot as plt\n",
    "from matplotlib import patheffects\n",
    "\n",
    "# Plot a straight diagonal line with ticked style path\n",
    "fig, ax = plt.subplots(figsize=(20, 6))\n",
    "ax.plot([0, 1], [0, 1], label=\"Line\")\n",
    "\n",
    "# Plot a curved line with ticked style path\n",
    "nx = 101\n",
    "x = np.linspace(0.0, 6.0, nx)\n",
    "y = 3*np.sin(x*2) \n",
    "ax.plot(x, y, label=\"Curve\")\n",
    "\n",
    "ax.legend()\n",
    "\n",
    "plt.show()"
   ]
  },
  {
   "cell_type": "code",
   "execution_count": 63,
   "metadata": {},
   "outputs": [
    {
     "name": "stdout",
     "output_type": "stream",
     "text": [
      "1 2 3\n",
      "4 5 6\n",
      "7 8 9\n",
      "\n",
      "X 2 3\n",
      "4 5 6\n",
      "7 8 9\n",
      "\n",
      "X O 3\n",
      "4 5 6\n",
      "7 8 9\n",
      "\n",
      "X O X\n",
      "4 5 6\n",
      "7 8 9\n",
      "\n",
      "X O X\n",
      "O 5 6\n",
      "7 8 9\n",
      "\n",
      "X O X\n",
      "O X 6\n",
      "7 8 9\n",
      "\n",
      "X O X\n",
      "O X 6\n",
      "7 8 O\n",
      "\n"
     ]
    }
   ],
   "source": [
    "board = [['1','2','3'],['4','5','6'],['7','8','9']]\n",
    "player = 'X'\n",
    "\n",
    "for a,b,c in board:\n",
    "  print(a,b,c)    \n",
    "print()\n",
    "while '9' in board[2]:\n",
    "  choice = input('Enter a number: ')\n",
    "  while choice not in ['1','2','3','4','5','6','7','8','9']:\n",
    "    choice = input('Enter another number: ')\n",
    "  choiceindex = int(choice) - 1\n",
    "  col = choiceindex % 3\n",
    "  row = int(choiceindex / 3)\n",
    "  if str(choiceindex + 1) in board[row]:\n",
    "    board[row][col] = player\n",
    "    player = 'X' if player == 'O' else 'O'\n",
    "  else:  \n",
    "    continue\n",
    "  for a,b,c in board:\n",
    "    print(a,b,c)\n",
    "  print()  \n",
    "\n"
   ]
  },
  {
   "cell_type": "code",
   "execution_count": 65,
   "metadata": {},
   "outputs": [
    {
     "name": "stdout",
     "output_type": "stream",
     "text": [
      "['BooleanDtype', 'Categorical', 'CategoricalDtype', 'CategoricalIndex', 'DataFrame', 'DateOffset', 'DatetimeIndex', 'DatetimeTZDtype', 'ExcelFile', 'ExcelWriter', 'Flags', 'Float32Dtype', 'Float64Dtype', 'Float64Index', 'Grouper', 'HDFStore', 'Index', 'IndexSlice', 'Int16Dtype', 'Int32Dtype', 'Int64Dtype', 'Int64Index', 'Int8Dtype', 'Interval', 'IntervalDtype', 'IntervalIndex', 'MultiIndex', 'NA', 'NaT', 'NamedAgg', 'Period', 'PeriodDtype', 'PeriodIndex', 'RangeIndex', 'Series', 'SparseDtype', 'StringDtype', 'Timedelta', 'TimedeltaIndex', 'Timestamp', 'UInt16Dtype', 'UInt32Dtype', 'UInt64Dtype', 'UInt64Index', 'UInt8Dtype', '__all__', '__builtins__', '__cached__', '__deprecated_num_index_names', '__dir__', '__doc__', '__docformat__', '__file__', '__getattr__', '__git_version__', '__loader__', '__name__', '__package__', '__path__', '__spec__', '__version__', '_config', '_is_numpy_dev', '_libs', '_testing', '_typing', '_version', 'api', 'array', 'arrays', 'bdate_range', 'compat', 'concat', 'core', 'crosstab', 'cut', 'date_range', 'describe_option', 'errors', 'eval', 'factorize', 'get_dummies', 'get_option', 'infer_freq', 'interval_range', 'io', 'isna', 'isnull', 'json_normalize', 'lreshape', 'melt', 'merge', 'merge_asof', 'merge_ordered', 'notna', 'notnull', 'offsets', 'option_context', 'options', 'pandas', 'period_range', 'pivot', 'pivot_table', 'plotting', 'qcut', 'read_clipboard', 'read_csv', 'read_excel', 'read_feather', 'read_fwf', 'read_gbq', 'read_hdf', 'read_html', 'read_json', 'read_orc', 'read_parquet', 'read_pickle', 'read_sas', 'read_spss', 'read_sql', 'read_sql_query', 'read_sql_table', 'read_stata', 'read_table', 'read_xml', 'reset_option', 'set_eng_float_format', 'set_option', 'show_versions', 'test', 'testing', 'timedelta_range', 'to_datetime', 'to_numeric', 'to_pickle', 'to_timedelta', 'tseries', 'unique', 'util', 'value_counts', 'wide_to_long']\n"
     ]
    }
   ],
   "source": [
    "import pandas\n",
    "\n",
    "print(filter(lambda x: x[0] != '_',dir(pandas)))"
   ]
  },
  {
   "cell_type": "code",
   "execution_count": 70,
   "metadata": {},
   "outputs": [
    {
     "name": "stdout",
     "output_type": "stream",
     "text": [
      "Help on package pandas.api in pandas:\n",
      "\n",
      "NAME\n",
      "    pandas.api - public toolkit API\n",
      "\n",
      "PACKAGE CONTENTS\n",
      "    extensions (package)\n",
      "    indexers (package)\n",
      "    types (package)\n",
      "\n",
      "FILE\n",
      "    c:\\users\\brent.denny\\appdata\\local\\programs\\python\\python310\\lib\\site-packages\\pandas\\api\\__init__.py\n",
      "\n",
      "\n"
     ]
    }
   ],
   "source": [
    "from pandas import api\n",
    "\n",
    "# print(list(filter(lambda x: x[0] != '_',dir(pandas))))\n",
    "help (api)\n"
   ]
  },
  {
   "cell_type": "code",
   "execution_count": null,
   "metadata": {},
   "outputs": [],
   "source": []
  },
  {
   "cell_type": "code",
   "execution_count": null,
   "metadata": {},
   "outputs": [],
   "source": []
  }
 ],
 "metadata": {
  "kernelspec": {
   "display_name": "Python 3.10.6 64-bit",
   "language": "python",
   "name": "python3"
  },
  "language_info": {
   "codemirror_mode": {
    "name": "ipython",
    "version": 3
   },
   "file_extension": ".py",
   "mimetype": "text/x-python",
   "name": "python",
   "nbconvert_exporter": "python",
   "pygments_lexer": "ipython3",
   "version": "3.10.6"
  },
  "orig_nbformat": 4,
  "vscode": {
   "interpreter": {
    "hash": "917c2fcfba35f78a8c6240e40e0068b9d5bef1e4004d7bc74bf2323334ee950e"
   }
  }
 },
 "nbformat": 4,
 "nbformat_minor": 2
}
